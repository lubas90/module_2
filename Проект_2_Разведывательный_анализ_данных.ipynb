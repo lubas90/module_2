{
  "nbformat": 4,
  "nbformat_minor": 0,
  "metadata": {
    "colab": {
      "name": "Проект 2. Разведывательный анализ данных.ipynb",
      "provenance": [],
      "collapsed_sections": []
    },
    "kernelspec": {
      "name": "python3",
      "display_name": "Python 3"
    }
  },
  "cells": [
    {
      "cell_type": "markdown",
      "metadata": {
        "id": "sIypGPA2fCXk"
      },
      "source": [
        "Суть проекта — отследить влияние условий жизни учащихся в возрасте от 15 до 22 лет на их успеваемость по математике, чтобы на ранней стадии выявлять студентов, находящихся в группе риска.\n",
        "\n",
        "В этом ноутбуке выполнены следующие операции с датасетом:\n",
        "\n",
        "1) Очистка данных от нулевых и NaN значений\n",
        "\n",
        "2) Поиск и очистка данных от выбросов\n",
        "\n",
        "3) Поиск и очистка ошибочных значений\n",
        "\n",
        "4) Оценка кореляций между числовыми значениями и успеваемостью учеников\n",
        "\n",
        "5) Поиск статистически значимых различий между номинативными значениями и успеваемостью учеников\n",
        "\n",
        "\n",
        "В конце ноутбука предоставлены выводы по оценках"
      ]
    },
    {
      "cell_type": "code",
      "metadata": {
        "id": "VeL6V_8_aYtb"
      },
      "source": [
        "#All functions that will be used in the code\n",
        "\n",
        "#1. Function which removes the outliers for the column in the dataset\n",
        "def remove_outlier(datacolumn):\n",
        "  IQR = datacolumn.quantile(0.75) - datacolumn.quantile(0.25)\n",
        "  perc25 = datacolumn.quantile(0.25)\n",
        "  perc75 = datacolumn.quantile(0.75)\n",
        "  datacolumn = datacolumn.loc[datacolumn >= perc25 - 1.5*IQR]\n",
        "  datacolumn = datacolumn.loc[datacolumn <= perc75 + 1.5*IQR]\n",
        "  return datacolumn\n",
        "\n",
        "\n",
        "#2. Function which removes the mistake values for the column in the dataset\n",
        "def remove_wrongvalue(datacolumn, maxvalue=None, minvalue=None):\n",
        "  if maxvalue != None:\n",
        "    datacolumn = datacolumn.loc[datacolumn <= maxvalue]\n",
        "  if minvalue != None:\n",
        "    datacolumn = datacolumn.loc[datacolumn >= minvalue]\n",
        "  return datacolumn\n",
        "\n",
        "\n",
        "#3. Function which removes the blank and NaN values for the column in the dataset\n",
        "def remove_blanks(in_value):\n",
        "  in_string = str(in_value)\n",
        "  if (in_string.strip() == '' or in_string == 'NaN' or in_string == 'nan'):\n",
        "    return None\n",
        "  else:\n",
        "    return in_value\n",
        "\n",
        "\n",
        "#4. Function which builds the boxplot for the corresponding column and the 'score' column\n",
        "def get_boxplot(column):\n",
        "    fig, ax = plt.subplots(figsize = (4, 2))\n",
        "    sns.boxplot(x=column, y='score', \n",
        "                data=stud_math.loc[stud_math.loc[:, column].isin(stud_math.loc[:, column].value_counts().index[:10])],\n",
        "               ax=ax)\n",
        "    plt.xticks(rotation=45)\n",
        "    ax.set_title('Boxplot for ' + column)\n",
        "    plt.show()\n",
        "\n",
        "\n",
        "#5. Function which performs a statistics Students test to define the column with the highest differentiator\n",
        "def get_stat_dif(column):\n",
        "    cols = stud_math.loc[:, column].value_counts().index[:20]\n",
        "    combinations_all = list(combinations(cols, 2))\n",
        "    for comb in combinations_all:\n",
        "        if ttest_ind(stud_math.loc[stud_math.loc[:, column] == comb[0], 'score'], \n",
        "                        stud_math.loc[stud_math.loc[:, column] == comb[1], 'score']).pvalue \\\n",
        "            <= 0.05/len(combinations_all): # Учли поправку Бонферони\n",
        "            print('Найдены статистически значимые различия для колонки', column)\n",
        "            break"
      ],
      "execution_count": 203,
      "outputs": []
    },
    {
      "cell_type": "code",
      "metadata": {
        "id": "Df1ZEhM8U0wj",
        "outputId": "42c70f99-216f-4d7a-e0a8-076c671407c2",
        "colab": {
          "base_uri": "https://localhost:8080/"
        }
      },
      "source": [
        "import pandas as pd\n",
        "import matplotlib.pyplot as plt\n",
        "import seaborn as sns\n",
        "from itertools import combinations\n",
        "from scipy.stats import ttest_ind\n",
        "\n",
        "pd.set_option('display.max_rows', 50) # показывать больше строк\n",
        "pd.set_option('display.max_columns', 50) # показывать больше колонок\n",
        "\n",
        "#Python notebook is used in Google Collab online\n",
        "!wget 'https://lms.skillfactory.ru/assets/courseware/v1/425d6864db937e4ebabc972e581769ab/asset-v1:Skillfactory+DST-WEEKLY-2.0+08JULY2020+type@asset+block/stud_math.csv' -O stud_math.csv\n",
        "stud_math = pd.read_csv('stud_math.csv')"
      ],
      "execution_count": 125,
      "outputs": [
        {
          "output_type": "stream",
          "text": [
            "--2020-11-02 17:48:13--  https://lms.skillfactory.ru/assets/courseware/v1/425d6864db937e4ebabc972e581769ab/asset-v1:Skillfactory+DST-WEEKLY-2.0+08JULY2020+type@asset+block/stud_math.csv\n",
            "Resolving lms.skillfactory.ru (lms.skillfactory.ru)... 84.201.175.12\n",
            "Connecting to lms.skillfactory.ru (lms.skillfactory.ru)|84.201.175.12|:443... connected.\n",
            "HTTP request sent, awaiting response... 200 OK\n",
            "Length: 47309 (46K) [application/vnd.ms-excel]\n",
            "Saving to: ‘stud_math.csv’\n",
            "\n",
            "stud_math.csv       100%[===================>]  46.20K  --.-KB/s    in 0.04s   \n",
            "\n",
            "2020-11-02 17:48:13 (1.03 MB/s) - ‘stud_math.csv’ saved [47309/47309]\n",
            "\n"
          ],
          "name": "stdout"
        }
      ]
    },
    {
      "cell_type": "code",
      "metadata": {
        "id": "S_4PKzIaaWbW",
        "outputId": "9e5cdf65-5dea-47f5-c667-256895528242",
        "colab": {
          "base_uri": "https://localhost:8080/"
        }
      },
      "source": [
        "stud_math.info() "
      ],
      "execution_count": 50,
      "outputs": [
        {
          "output_type": "stream",
          "text": [
            "<class 'pandas.core.frame.DataFrame'>\n",
            "RangeIndex: 395 entries, 0 to 394\n",
            "Data columns (total 30 columns):\n",
            " #   Column               Non-Null Count  Dtype  \n",
            "---  ------               --------------  -----  \n",
            " 0   school               395 non-null    object \n",
            " 1   sex                  395 non-null    object \n",
            " 2   age                  395 non-null    int64  \n",
            " 3   address              378 non-null    object \n",
            " 4   famsize              368 non-null    object \n",
            " 5   Pstatus              350 non-null    object \n",
            " 6   Medu                 392 non-null    float64\n",
            " 7   Fedu                 371 non-null    float64\n",
            " 8   Mjob                 376 non-null    object \n",
            " 9   Fjob                 359 non-null    object \n",
            " 10  reason               378 non-null    object \n",
            " 11  guardian             364 non-null    object \n",
            " 12  traveltime           367 non-null    float64\n",
            " 13  studytime            388 non-null    float64\n",
            " 14  failures             373 non-null    float64\n",
            " 15  schoolsup            386 non-null    object \n",
            " 16  famsup               356 non-null    object \n",
            " 17  paid                 355 non-null    object \n",
            " 18  activities           381 non-null    object \n",
            " 19  nursery              379 non-null    object \n",
            " 20  studytime, granular  388 non-null    float64\n",
            " 21  higher               375 non-null    object \n",
            " 22  internet             361 non-null    object \n",
            " 23  romantic             364 non-null    object \n",
            " 24  famrel               368 non-null    float64\n",
            " 25  freetime             384 non-null    float64\n",
            " 26  goout                387 non-null    float64\n",
            " 27  health               380 non-null    float64\n",
            " 28  absences             383 non-null    float64\n",
            " 29  score                389 non-null    float64\n",
            "dtypes: float64(12), int64(1), object(17)\n",
            "memory usage: 92.7+ KB\n"
          ],
          "name": "stdout"
        }
      ]
    },
    {
      "cell_type": "code",
      "metadata": {
        "id": "qCHlqt74VOn1",
        "outputId": "559f5d5d-28f7-4d55-9391-2b6b6252b329",
        "colab": {
          "base_uri": "https://localhost:8080/",
          "height": 689
        }
      },
      "source": [
        "display(stud_math.head(20))"
      ],
      "execution_count": 122,
      "outputs": [
        {
          "output_type": "display_data",
          "data": {
            "text/html": [
              "<div>\n",
              "<style scoped>\n",
              "    .dataframe tbody tr th:only-of-type {\n",
              "        vertical-align: middle;\n",
              "    }\n",
              "\n",
              "    .dataframe tbody tr th {\n",
              "        vertical-align: top;\n",
              "    }\n",
              "\n",
              "    .dataframe thead th {\n",
              "        text-align: right;\n",
              "    }\n",
              "</style>\n",
              "<table border=\"1\" class=\"dataframe\">\n",
              "  <thead>\n",
              "    <tr style=\"text-align: right;\">\n",
              "      <th></th>\n",
              "      <th>school</th>\n",
              "      <th>sex</th>\n",
              "      <th>age</th>\n",
              "      <th>address</th>\n",
              "      <th>family_size</th>\n",
              "      <th>parents_status</th>\n",
              "      <th>mother_edu</th>\n",
              "      <th>father_edu</th>\n",
              "      <th>mother_job</th>\n",
              "      <th>father_job</th>\n",
              "      <th>reason</th>\n",
              "      <th>guardian</th>\n",
              "      <th>travel_time</th>\n",
              "      <th>study_time</th>\n",
              "      <th>failures</th>\n",
              "      <th>school_sup</th>\n",
              "      <th>family_sup</th>\n",
              "      <th>paid_classes</th>\n",
              "      <th>activities</th>\n",
              "      <th>nursery</th>\n",
              "      <th>higher</th>\n",
              "      <th>internet</th>\n",
              "      <th>romantic</th>\n",
              "      <th>family_rel</th>\n",
              "      <th>free_time</th>\n",
              "      <th>go_out</th>\n",
              "      <th>health</th>\n",
              "      <th>absences</th>\n",
              "      <th>score</th>\n",
              "    </tr>\n",
              "  </thead>\n",
              "  <tbody>\n",
              "    <tr>\n",
              "      <th>0</th>\n",
              "      <td>GP</td>\n",
              "      <td>F</td>\n",
              "      <td>18.0</td>\n",
              "      <td>U</td>\n",
              "      <td>None</td>\n",
              "      <td>separate</td>\n",
              "      <td>4.0</td>\n",
              "      <td>4.0</td>\n",
              "      <td>at_home</td>\n",
              "      <td>teacher</td>\n",
              "      <td>course</td>\n",
              "      <td>mother</td>\n",
              "      <td>2.0</td>\n",
              "      <td>2.0</td>\n",
              "      <td>0.0</td>\n",
              "      <td>yes</td>\n",
              "      <td>no</td>\n",
              "      <td>no</td>\n",
              "      <td>no</td>\n",
              "      <td>yes</td>\n",
              "      <td>yes</td>\n",
              "      <td>None</td>\n",
              "      <td>no</td>\n",
              "      <td>4.0</td>\n",
              "      <td>3.0</td>\n",
              "      <td>4.0</td>\n",
              "      <td>3.0</td>\n",
              "      <td>6.0</td>\n",
              "      <td>30.0</td>\n",
              "    </tr>\n",
              "    <tr>\n",
              "      <th>1</th>\n",
              "      <td>GP</td>\n",
              "      <td>F</td>\n",
              "      <td>17.0</td>\n",
              "      <td>U</td>\n",
              "      <td>more_than_3</td>\n",
              "      <td>None</td>\n",
              "      <td>1.0</td>\n",
              "      <td>1.0</td>\n",
              "      <td>at_home</td>\n",
              "      <td>other</td>\n",
              "      <td>course</td>\n",
              "      <td>father</td>\n",
              "      <td>1.0</td>\n",
              "      <td>2.0</td>\n",
              "      <td>0.0</td>\n",
              "      <td>no</td>\n",
              "      <td>yes</td>\n",
              "      <td>no</td>\n",
              "      <td>no</td>\n",
              "      <td>no</td>\n",
              "      <td>yes</td>\n",
              "      <td>yes</td>\n",
              "      <td>no</td>\n",
              "      <td>5.0</td>\n",
              "      <td>3.0</td>\n",
              "      <td>3.0</td>\n",
              "      <td>3.0</td>\n",
              "      <td>4.0</td>\n",
              "      <td>30.0</td>\n",
              "    </tr>\n",
              "    <tr>\n",
              "      <th>2</th>\n",
              "      <td>GP</td>\n",
              "      <td>F</td>\n",
              "      <td>15.0</td>\n",
              "      <td>U</td>\n",
              "      <td>less_or_equal_3</td>\n",
              "      <td>together</td>\n",
              "      <td>1.0</td>\n",
              "      <td>1.0</td>\n",
              "      <td>at_home</td>\n",
              "      <td>other</td>\n",
              "      <td>other</td>\n",
              "      <td>mother</td>\n",
              "      <td>1.0</td>\n",
              "      <td>2.0</td>\n",
              "      <td>3.0</td>\n",
              "      <td>yes</td>\n",
              "      <td>no</td>\n",
              "      <td>None</td>\n",
              "      <td>no</td>\n",
              "      <td>yes</td>\n",
              "      <td>yes</td>\n",
              "      <td>yes</td>\n",
              "      <td>None</td>\n",
              "      <td>4.0</td>\n",
              "      <td>3.0</td>\n",
              "      <td>2.0</td>\n",
              "      <td>3.0</td>\n",
              "      <td>10.0</td>\n",
              "      <td>50.0</td>\n",
              "    </tr>\n",
              "    <tr>\n",
              "      <th>3</th>\n",
              "      <td>GP</td>\n",
              "      <td>F</td>\n",
              "      <td>15.0</td>\n",
              "      <td>U</td>\n",
              "      <td>more_than_3</td>\n",
              "      <td>together</td>\n",
              "      <td>4.0</td>\n",
              "      <td>2.0</td>\n",
              "      <td>health</td>\n",
              "      <td>None</td>\n",
              "      <td>home</td>\n",
              "      <td>mother</td>\n",
              "      <td>1.0</td>\n",
              "      <td>3.0</td>\n",
              "      <td>0.0</td>\n",
              "      <td>no</td>\n",
              "      <td>yes</td>\n",
              "      <td>yes</td>\n",
              "      <td>yes</td>\n",
              "      <td>yes</td>\n",
              "      <td>yes</td>\n",
              "      <td>yes</td>\n",
              "      <td>yes</td>\n",
              "      <td>3.0</td>\n",
              "      <td>2.0</td>\n",
              "      <td>2.0</td>\n",
              "      <td>5.0</td>\n",
              "      <td>2.0</td>\n",
              "      <td>75.0</td>\n",
              "    </tr>\n",
              "    <tr>\n",
              "      <th>4</th>\n",
              "      <td>GP</td>\n",
              "      <td>F</td>\n",
              "      <td>16.0</td>\n",
              "      <td>U</td>\n",
              "      <td>more_than_3</td>\n",
              "      <td>together</td>\n",
              "      <td>3.0</td>\n",
              "      <td>3.0</td>\n",
              "      <td>other</td>\n",
              "      <td>other</td>\n",
              "      <td>home</td>\n",
              "      <td>father</td>\n",
              "      <td>1.0</td>\n",
              "      <td>2.0</td>\n",
              "      <td>0.0</td>\n",
              "      <td>no</td>\n",
              "      <td>yes</td>\n",
              "      <td>yes</td>\n",
              "      <td>no</td>\n",
              "      <td>yes</td>\n",
              "      <td>yes</td>\n",
              "      <td>no</td>\n",
              "      <td>no</td>\n",
              "      <td>4.0</td>\n",
              "      <td>3.0</td>\n",
              "      <td>2.0</td>\n",
              "      <td>5.0</td>\n",
              "      <td>4.0</td>\n",
              "      <td>50.0</td>\n",
              "    </tr>\n",
              "    <tr>\n",
              "      <th>5</th>\n",
              "      <td>GP</td>\n",
              "      <td>M</td>\n",
              "      <td>16.0</td>\n",
              "      <td>U</td>\n",
              "      <td>less_or_equal_3</td>\n",
              "      <td>together</td>\n",
              "      <td>4.0</td>\n",
              "      <td>3.0</td>\n",
              "      <td>services</td>\n",
              "      <td>other</td>\n",
              "      <td>reputation</td>\n",
              "      <td>mother</td>\n",
              "      <td>1.0</td>\n",
              "      <td>2.0</td>\n",
              "      <td>0.0</td>\n",
              "      <td>no</td>\n",
              "      <td>yes</td>\n",
              "      <td>yes</td>\n",
              "      <td>yes</td>\n",
              "      <td>yes</td>\n",
              "      <td>yes</td>\n",
              "      <td>yes</td>\n",
              "      <td>no</td>\n",
              "      <td>5.0</td>\n",
              "      <td>4.0</td>\n",
              "      <td>2.0</td>\n",
              "      <td>5.0</td>\n",
              "      <td>10.0</td>\n",
              "      <td>75.0</td>\n",
              "    </tr>\n",
              "    <tr>\n",
              "      <th>6</th>\n",
              "      <td>GP</td>\n",
              "      <td>M</td>\n",
              "      <td>16.0</td>\n",
              "      <td>None</td>\n",
              "      <td>less_or_equal_3</td>\n",
              "      <td>together</td>\n",
              "      <td>2.0</td>\n",
              "      <td>2.0</td>\n",
              "      <td>other</td>\n",
              "      <td>other</td>\n",
              "      <td>home</td>\n",
              "      <td>mother</td>\n",
              "      <td>1.0</td>\n",
              "      <td>2.0</td>\n",
              "      <td>0.0</td>\n",
              "      <td>no</td>\n",
              "      <td>no</td>\n",
              "      <td>no</td>\n",
              "      <td>no</td>\n",
              "      <td>yes</td>\n",
              "      <td>yes</td>\n",
              "      <td>yes</td>\n",
              "      <td>no</td>\n",
              "      <td>4.0</td>\n",
              "      <td>4.0</td>\n",
              "      <td>4.0</td>\n",
              "      <td>3.0</td>\n",
              "      <td>0.0</td>\n",
              "      <td>55.0</td>\n",
              "    </tr>\n",
              "    <tr>\n",
              "      <th>7</th>\n",
              "      <td>GP</td>\n",
              "      <td>F</td>\n",
              "      <td>17.0</td>\n",
              "      <td>U</td>\n",
              "      <td>more_than_3</td>\n",
              "      <td>separate</td>\n",
              "      <td>4.0</td>\n",
              "      <td>4.0</td>\n",
              "      <td>other</td>\n",
              "      <td>teacher</td>\n",
              "      <td>home</td>\n",
              "      <td>mother</td>\n",
              "      <td>2.0</td>\n",
              "      <td>2.0</td>\n",
              "      <td>0.0</td>\n",
              "      <td>yes</td>\n",
              "      <td>yes</td>\n",
              "      <td>no</td>\n",
              "      <td>no</td>\n",
              "      <td>yes</td>\n",
              "      <td>yes</td>\n",
              "      <td>no</td>\n",
              "      <td>no</td>\n",
              "      <td>4.0</td>\n",
              "      <td>1.0</td>\n",
              "      <td>4.0</td>\n",
              "      <td>1.0</td>\n",
              "      <td>6.0</td>\n",
              "      <td>30.0</td>\n",
              "    </tr>\n",
              "    <tr>\n",
              "      <th>8</th>\n",
              "      <td>GP</td>\n",
              "      <td>M</td>\n",
              "      <td>15.0</td>\n",
              "      <td>U</td>\n",
              "      <td>less_or_equal_3</td>\n",
              "      <td>separate</td>\n",
              "      <td>3.0</td>\n",
              "      <td>2.0</td>\n",
              "      <td>services</td>\n",
              "      <td>other</td>\n",
              "      <td>home</td>\n",
              "      <td>mother</td>\n",
              "      <td>1.0</td>\n",
              "      <td>2.0</td>\n",
              "      <td>0.0</td>\n",
              "      <td>no</td>\n",
              "      <td>yes</td>\n",
              "      <td>yes</td>\n",
              "      <td>no</td>\n",
              "      <td>yes</td>\n",
              "      <td>yes</td>\n",
              "      <td>yes</td>\n",
              "      <td>no</td>\n",
              "      <td>NaN</td>\n",
              "      <td>2.0</td>\n",
              "      <td>2.0</td>\n",
              "      <td>1.0</td>\n",
              "      <td>0.0</td>\n",
              "      <td>95.0</td>\n",
              "    </tr>\n",
              "    <tr>\n",
              "      <th>9</th>\n",
              "      <td>GP</td>\n",
              "      <td>M</td>\n",
              "      <td>15.0</td>\n",
              "      <td>U</td>\n",
              "      <td>None</td>\n",
              "      <td>None</td>\n",
              "      <td>3.0</td>\n",
              "      <td>4.0</td>\n",
              "      <td>other</td>\n",
              "      <td>other</td>\n",
              "      <td>home</td>\n",
              "      <td>mother</td>\n",
              "      <td>1.0</td>\n",
              "      <td>2.0</td>\n",
              "      <td>0.0</td>\n",
              "      <td>no</td>\n",
              "      <td>yes</td>\n",
              "      <td>yes</td>\n",
              "      <td>yes</td>\n",
              "      <td>yes</td>\n",
              "      <td>yes</td>\n",
              "      <td>yes</td>\n",
              "      <td>no</td>\n",
              "      <td>5.0</td>\n",
              "      <td>5.0</td>\n",
              "      <td>1.0</td>\n",
              "      <td>5.0</td>\n",
              "      <td>0.0</td>\n",
              "      <td>75.0</td>\n",
              "    </tr>\n",
              "    <tr>\n",
              "      <th>10</th>\n",
              "      <td>GP</td>\n",
              "      <td>F</td>\n",
              "      <td>15.0</td>\n",
              "      <td>U</td>\n",
              "      <td>more_than_3</td>\n",
              "      <td>together</td>\n",
              "      <td>4.0</td>\n",
              "      <td>4.0</td>\n",
              "      <td>teacher</td>\n",
              "      <td>health</td>\n",
              "      <td>reputation</td>\n",
              "      <td>mother</td>\n",
              "      <td>1.0</td>\n",
              "      <td>2.0</td>\n",
              "      <td>0.0</td>\n",
              "      <td>no</td>\n",
              "      <td>yes</td>\n",
              "      <td>yes</td>\n",
              "      <td>no</td>\n",
              "      <td>yes</td>\n",
              "      <td>yes</td>\n",
              "      <td>yes</td>\n",
              "      <td>no</td>\n",
              "      <td>3.0</td>\n",
              "      <td>3.0</td>\n",
              "      <td>3.0</td>\n",
              "      <td>2.0</td>\n",
              "      <td>0.0</td>\n",
              "      <td>45.0</td>\n",
              "    </tr>\n",
              "    <tr>\n",
              "      <th>11</th>\n",
              "      <td>GP</td>\n",
              "      <td>F</td>\n",
              "      <td>15.0</td>\n",
              "      <td>U</td>\n",
              "      <td>more_than_3</td>\n",
              "      <td>None</td>\n",
              "      <td>2.0</td>\n",
              "      <td>NaN</td>\n",
              "      <td>services</td>\n",
              "      <td>other</td>\n",
              "      <td>reputation</td>\n",
              "      <td>father</td>\n",
              "      <td>3.0</td>\n",
              "      <td>3.0</td>\n",
              "      <td>0.0</td>\n",
              "      <td>no</td>\n",
              "      <td>yes</td>\n",
              "      <td>no</td>\n",
              "      <td>yes</td>\n",
              "      <td>yes</td>\n",
              "      <td>yes</td>\n",
              "      <td>yes</td>\n",
              "      <td>no</td>\n",
              "      <td>5.0</td>\n",
              "      <td>2.0</td>\n",
              "      <td>2.0</td>\n",
              "      <td>4.0</td>\n",
              "      <td>4.0</td>\n",
              "      <td>60.0</td>\n",
              "    </tr>\n",
              "    <tr>\n",
              "      <th>12</th>\n",
              "      <td>GP</td>\n",
              "      <td>M</td>\n",
              "      <td>15.0</td>\n",
              "      <td>U</td>\n",
              "      <td>less_or_equal_3</td>\n",
              "      <td>together</td>\n",
              "      <td>4.0</td>\n",
              "      <td>4.0</td>\n",
              "      <td>health</td>\n",
              "      <td>services</td>\n",
              "      <td>course</td>\n",
              "      <td>father</td>\n",
              "      <td>1.0</td>\n",
              "      <td>1.0</td>\n",
              "      <td>0.0</td>\n",
              "      <td>no</td>\n",
              "      <td>yes</td>\n",
              "      <td>yes</td>\n",
              "      <td>yes</td>\n",
              "      <td>yes</td>\n",
              "      <td>yes</td>\n",
              "      <td>None</td>\n",
              "      <td>no</td>\n",
              "      <td>NaN</td>\n",
              "      <td>3.0</td>\n",
              "      <td>3.0</td>\n",
              "      <td>5.0</td>\n",
              "      <td>2.0</td>\n",
              "      <td>70.0</td>\n",
              "    </tr>\n",
              "    <tr>\n",
              "      <th>13</th>\n",
              "      <td>GP</td>\n",
              "      <td>M</td>\n",
              "      <td>15.0</td>\n",
              "      <td>U</td>\n",
              "      <td>more_than_3</td>\n",
              "      <td>together</td>\n",
              "      <td>4.0</td>\n",
              "      <td>3.0</td>\n",
              "      <td>teacher</td>\n",
              "      <td>other</td>\n",
              "      <td>course</td>\n",
              "      <td>mother</td>\n",
              "      <td>2.0</td>\n",
              "      <td>2.0</td>\n",
              "      <td>0.0</td>\n",
              "      <td>no</td>\n",
              "      <td>yes</td>\n",
              "      <td>yes</td>\n",
              "      <td>no</td>\n",
              "      <td>yes</td>\n",
              "      <td>yes</td>\n",
              "      <td>yes</td>\n",
              "      <td>None</td>\n",
              "      <td>5.0</td>\n",
              "      <td>4.0</td>\n",
              "      <td>3.0</td>\n",
              "      <td>3.0</td>\n",
              "      <td>2.0</td>\n",
              "      <td>55.0</td>\n",
              "    </tr>\n",
              "    <tr>\n",
              "      <th>14</th>\n",
              "      <td>GP</td>\n",
              "      <td>M</td>\n",
              "      <td>15.0</td>\n",
              "      <td>U</td>\n",
              "      <td>more_than_3</td>\n",
              "      <td>separate</td>\n",
              "      <td>2.0</td>\n",
              "      <td>2.0</td>\n",
              "      <td>other</td>\n",
              "      <td>other</td>\n",
              "      <td>home</td>\n",
              "      <td>other</td>\n",
              "      <td>1.0</td>\n",
              "      <td>3.0</td>\n",
              "      <td>0.0</td>\n",
              "      <td>no</td>\n",
              "      <td>yes</td>\n",
              "      <td>no</td>\n",
              "      <td>no</td>\n",
              "      <td>yes</td>\n",
              "      <td>yes</td>\n",
              "      <td>yes</td>\n",
              "      <td>yes</td>\n",
              "      <td>4.0</td>\n",
              "      <td>5.0</td>\n",
              "      <td>2.0</td>\n",
              "      <td>3.0</td>\n",
              "      <td>0.0</td>\n",
              "      <td>80.0</td>\n",
              "    </tr>\n",
              "    <tr>\n",
              "      <th>15</th>\n",
              "      <td>GP</td>\n",
              "      <td>F</td>\n",
              "      <td>16.0</td>\n",
              "      <td>U</td>\n",
              "      <td>more_than_3</td>\n",
              "      <td>None</td>\n",
              "      <td>4.0</td>\n",
              "      <td>4.0</td>\n",
              "      <td>health</td>\n",
              "      <td>other</td>\n",
              "      <td>home</td>\n",
              "      <td>mother</td>\n",
              "      <td>1.0</td>\n",
              "      <td>1.0</td>\n",
              "      <td>0.0</td>\n",
              "      <td>no</td>\n",
              "      <td>yes</td>\n",
              "      <td>no</td>\n",
              "      <td>no</td>\n",
              "      <td>yes</td>\n",
              "      <td>yes</td>\n",
              "      <td>yes</td>\n",
              "      <td>no</td>\n",
              "      <td>4.0</td>\n",
              "      <td>4.0</td>\n",
              "      <td>4.0</td>\n",
              "      <td>2.0</td>\n",
              "      <td>4.0</td>\n",
              "      <td>70.0</td>\n",
              "    </tr>\n",
              "    <tr>\n",
              "      <th>16</th>\n",
              "      <td>GP</td>\n",
              "      <td>F</td>\n",
              "      <td>16.0</td>\n",
              "      <td>U</td>\n",
              "      <td>more_than_3</td>\n",
              "      <td>together</td>\n",
              "      <td>4.0</td>\n",
              "      <td>4.0</td>\n",
              "      <td>services</td>\n",
              "      <td>services</td>\n",
              "      <td>reputation</td>\n",
              "      <td>mother</td>\n",
              "      <td>1.0</td>\n",
              "      <td>3.0</td>\n",
              "      <td>0.0</td>\n",
              "      <td>no</td>\n",
              "      <td>yes</td>\n",
              "      <td>yes</td>\n",
              "      <td>yes</td>\n",
              "      <td>yes</td>\n",
              "      <td>yes</td>\n",
              "      <td>yes</td>\n",
              "      <td>no</td>\n",
              "      <td>3.0</td>\n",
              "      <td>2.0</td>\n",
              "      <td>3.0</td>\n",
              "      <td>2.0</td>\n",
              "      <td>6.0</td>\n",
              "      <td>70.0</td>\n",
              "    </tr>\n",
              "    <tr>\n",
              "      <th>17</th>\n",
              "      <td>GP</td>\n",
              "      <td>F</td>\n",
              "      <td>16.0</td>\n",
              "      <td>U</td>\n",
              "      <td>more_than_3</td>\n",
              "      <td>together</td>\n",
              "      <td>3.0</td>\n",
              "      <td>3.0</td>\n",
              "      <td>other</td>\n",
              "      <td>None</td>\n",
              "      <td>reputation</td>\n",
              "      <td>mother</td>\n",
              "      <td>3.0</td>\n",
              "      <td>NaN</td>\n",
              "      <td>0.0</td>\n",
              "      <td>yes</td>\n",
              "      <td>None</td>\n",
              "      <td>no</td>\n",
              "      <td>yes</td>\n",
              "      <td>yes</td>\n",
              "      <td>yes</td>\n",
              "      <td>no</td>\n",
              "      <td>no</td>\n",
              "      <td>5.0</td>\n",
              "      <td>3.0</td>\n",
              "      <td>2.0</td>\n",
              "      <td>4.0</td>\n",
              "      <td>4.0</td>\n",
              "      <td>50.0</td>\n",
              "    </tr>\n",
              "    <tr>\n",
              "      <th>18</th>\n",
              "      <td>GP</td>\n",
              "      <td>M</td>\n",
              "      <td>17.0</td>\n",
              "      <td>U</td>\n",
              "      <td>more_than_3</td>\n",
              "      <td>together</td>\n",
              "      <td>3.0</td>\n",
              "      <td>2.0</td>\n",
              "      <td>services</td>\n",
              "      <td>services</td>\n",
              "      <td>course</td>\n",
              "      <td>mother</td>\n",
              "      <td>1.0</td>\n",
              "      <td>1.0</td>\n",
              "      <td>3.0</td>\n",
              "      <td>no</td>\n",
              "      <td>yes</td>\n",
              "      <td>None</td>\n",
              "      <td>yes</td>\n",
              "      <td>yes</td>\n",
              "      <td>yes</td>\n",
              "      <td>yes</td>\n",
              "      <td>no</td>\n",
              "      <td>5.0</td>\n",
              "      <td>5.0</td>\n",
              "      <td>5.0</td>\n",
              "      <td>5.0</td>\n",
              "      <td>16.0</td>\n",
              "      <td>25.0</td>\n",
              "    </tr>\n",
              "    <tr>\n",
              "      <th>19</th>\n",
              "      <td>GP</td>\n",
              "      <td>M</td>\n",
              "      <td>16.0</td>\n",
              "      <td>U</td>\n",
              "      <td>less_or_equal_3</td>\n",
              "      <td>together</td>\n",
              "      <td>4.0</td>\n",
              "      <td>3.0</td>\n",
              "      <td>health</td>\n",
              "      <td>other</td>\n",
              "      <td>home</td>\n",
              "      <td>father</td>\n",
              "      <td>1.0</td>\n",
              "      <td>1.0</td>\n",
              "      <td>0.0</td>\n",
              "      <td>no</td>\n",
              "      <td>no</td>\n",
              "      <td>None</td>\n",
              "      <td>yes</td>\n",
              "      <td>yes</td>\n",
              "      <td>yes</td>\n",
              "      <td>yes</td>\n",
              "      <td>no</td>\n",
              "      <td>3.0</td>\n",
              "      <td>1.0</td>\n",
              "      <td>3.0</td>\n",
              "      <td>5.0</td>\n",
              "      <td>4.0</td>\n",
              "      <td>50.0</td>\n",
              "    </tr>\n",
              "  </tbody>\n",
              "</table>\n",
              "</div>"
            ],
            "text/plain": [
              "   school sex   age address      family_size parents_status  mother_edu  \\\n",
              "0      GP   F  18.0       U             None       separate         4.0   \n",
              "1      GP   F  17.0       U      more_than_3           None         1.0   \n",
              "2      GP   F  15.0       U  less_or_equal_3       together         1.0   \n",
              "3      GP   F  15.0       U      more_than_3       together         4.0   \n",
              "4      GP   F  16.0       U      more_than_3       together         3.0   \n",
              "5      GP   M  16.0       U  less_or_equal_3       together         4.0   \n",
              "6      GP   M  16.0    None  less_or_equal_3       together         2.0   \n",
              "7      GP   F  17.0       U      more_than_3       separate         4.0   \n",
              "8      GP   M  15.0       U  less_or_equal_3       separate         3.0   \n",
              "9      GP   M  15.0       U             None           None         3.0   \n",
              "10     GP   F  15.0       U      more_than_3       together         4.0   \n",
              "11     GP   F  15.0       U      more_than_3           None         2.0   \n",
              "12     GP   M  15.0       U  less_or_equal_3       together         4.0   \n",
              "13     GP   M  15.0       U      more_than_3       together         4.0   \n",
              "14     GP   M  15.0       U      more_than_3       separate         2.0   \n",
              "15     GP   F  16.0       U      more_than_3           None         4.0   \n",
              "16     GP   F  16.0       U      more_than_3       together         4.0   \n",
              "17     GP   F  16.0       U      more_than_3       together         3.0   \n",
              "18     GP   M  17.0       U      more_than_3       together         3.0   \n",
              "19     GP   M  16.0       U  less_or_equal_3       together         4.0   \n",
              "\n",
              "    father_edu mother_job father_job      reason guardian  travel_time  \\\n",
              "0          4.0    at_home    teacher      course   mother          2.0   \n",
              "1          1.0    at_home      other      course   father          1.0   \n",
              "2          1.0    at_home      other       other   mother          1.0   \n",
              "3          2.0     health       None        home   mother          1.0   \n",
              "4          3.0      other      other        home   father          1.0   \n",
              "5          3.0   services      other  reputation   mother          1.0   \n",
              "6          2.0      other      other        home   mother          1.0   \n",
              "7          4.0      other    teacher        home   mother          2.0   \n",
              "8          2.0   services      other        home   mother          1.0   \n",
              "9          4.0      other      other        home   mother          1.0   \n",
              "10         4.0    teacher     health  reputation   mother          1.0   \n",
              "11         NaN   services      other  reputation   father          3.0   \n",
              "12         4.0     health   services      course   father          1.0   \n",
              "13         3.0    teacher      other      course   mother          2.0   \n",
              "14         2.0      other      other        home    other          1.0   \n",
              "15         4.0     health      other        home   mother          1.0   \n",
              "16         4.0   services   services  reputation   mother          1.0   \n",
              "17         3.0      other       None  reputation   mother          3.0   \n",
              "18         2.0   services   services      course   mother          1.0   \n",
              "19         3.0     health      other        home   father          1.0   \n",
              "\n",
              "    study_time  failures school_sup family_sup paid_classes activities  \\\n",
              "0          2.0       0.0        yes         no           no         no   \n",
              "1          2.0       0.0         no        yes           no         no   \n",
              "2          2.0       3.0        yes         no         None         no   \n",
              "3          3.0       0.0         no        yes          yes        yes   \n",
              "4          2.0       0.0         no        yes          yes         no   \n",
              "5          2.0       0.0         no        yes          yes        yes   \n",
              "6          2.0       0.0         no         no           no         no   \n",
              "7          2.0       0.0        yes        yes           no         no   \n",
              "8          2.0       0.0         no        yes          yes         no   \n",
              "9          2.0       0.0         no        yes          yes        yes   \n",
              "10         2.0       0.0         no        yes          yes         no   \n",
              "11         3.0       0.0         no        yes           no        yes   \n",
              "12         1.0       0.0         no        yes          yes        yes   \n",
              "13         2.0       0.0         no        yes          yes         no   \n",
              "14         3.0       0.0         no        yes           no         no   \n",
              "15         1.0       0.0         no        yes           no         no   \n",
              "16         3.0       0.0         no        yes          yes        yes   \n",
              "17         NaN       0.0        yes       None           no        yes   \n",
              "18         1.0       3.0         no        yes         None        yes   \n",
              "19         1.0       0.0         no         no         None        yes   \n",
              "\n",
              "   nursery higher internet romantic  family_rel  free_time  go_out  health  \\\n",
              "0      yes    yes     None       no         4.0        3.0     4.0     3.0   \n",
              "1       no    yes      yes       no         5.0        3.0     3.0     3.0   \n",
              "2      yes    yes      yes     None         4.0        3.0     2.0     3.0   \n",
              "3      yes    yes      yes      yes         3.0        2.0     2.0     5.0   \n",
              "4      yes    yes       no       no         4.0        3.0     2.0     5.0   \n",
              "5      yes    yes      yes       no         5.0        4.0     2.0     5.0   \n",
              "6      yes    yes      yes       no         4.0        4.0     4.0     3.0   \n",
              "7      yes    yes       no       no         4.0        1.0     4.0     1.0   \n",
              "8      yes    yes      yes       no         NaN        2.0     2.0     1.0   \n",
              "9      yes    yes      yes       no         5.0        5.0     1.0     5.0   \n",
              "10     yes    yes      yes       no         3.0        3.0     3.0     2.0   \n",
              "11     yes    yes      yes       no         5.0        2.0     2.0     4.0   \n",
              "12     yes    yes     None       no         NaN        3.0     3.0     5.0   \n",
              "13     yes    yes      yes     None         5.0        4.0     3.0     3.0   \n",
              "14     yes    yes      yes      yes         4.0        5.0     2.0     3.0   \n",
              "15     yes    yes      yes       no         4.0        4.0     4.0     2.0   \n",
              "16     yes    yes      yes       no         3.0        2.0     3.0     2.0   \n",
              "17     yes    yes       no       no         5.0        3.0     2.0     4.0   \n",
              "18     yes    yes      yes       no         5.0        5.0     5.0     5.0   \n",
              "19     yes    yes      yes       no         3.0        1.0     3.0     5.0   \n",
              "\n",
              "    absences  score  \n",
              "0        6.0   30.0  \n",
              "1        4.0   30.0  \n",
              "2       10.0   50.0  \n",
              "3        2.0   75.0  \n",
              "4        4.0   50.0  \n",
              "5       10.0   75.0  \n",
              "6        0.0   55.0  \n",
              "7        6.0   30.0  \n",
              "8        0.0   95.0  \n",
              "9        0.0   75.0  \n",
              "10       0.0   45.0  \n",
              "11       4.0   60.0  \n",
              "12       2.0   70.0  \n",
              "13       2.0   55.0  \n",
              "14       0.0   80.0  \n",
              "15       4.0   70.0  \n",
              "16       6.0   70.0  \n",
              "17       4.0   50.0  \n",
              "18      16.0   25.0  \n",
              "19       4.0   50.0  "
            ]
          },
          "metadata": {
            "tags": []
          }
        }
      ]
    },
    {
      "cell_type": "code",
      "metadata": {
        "id": "KhpsKvwaW1aY"
      },
      "source": [
        "#setting up the proper column names for the dataset\n",
        "stud_math.columns = ['school', 'sex', 'age', 'address', 'family_size', 'parents_status', 'mother_edu', 'father_edu',\n",
        "       'mother_job', 'father_job', 'reason', 'guardian', 'travel_time', 'study_time',\n",
        "       'failures', 'school_sup', 'family_sup', 'paid_classes', 'activities', 'nursery',\n",
        "       'study_time_granular', 'higher', 'internet', 'romantic', 'family_rel',\n",
        "       'free_time', 'go_out', 'health', 'absences', 'score']\n",
        "\n",
        "#Removing blank and NaN values in the dataset\n",
        "for column in stud_math.columns:\n",
        "  stud_math[column] = stud_math[column].apply(remove_blanks)"
      ],
      "execution_count": 126,
      "outputs": []
    },
    {
      "cell_type": "code",
      "metadata": {
        "id": "69kCjKb0bm5w",
        "outputId": "a564a847-9c5d-4862-a56f-d03e1478d375",
        "colab": {
          "base_uri": "https://localhost:8080/"
        }
      },
      "source": [
        "#checking the school column\n",
        "stud_math.school.value_counts()"
      ],
      "execution_count": 127,
      "outputs": [
        {
          "output_type": "execute_result",
          "data": {
            "text/plain": [
              "GP    349\n",
              "MS     46\n",
              "Name: school, dtype: int64"
            ]
          },
          "metadata": {
            "tags": []
          },
          "execution_count": 127
        }
      ]
    },
    {
      "cell_type": "code",
      "metadata": {
        "id": "z7mCeggb3rwU",
        "outputId": "f2dec83f-d539-4e87-be8d-67d1445942de",
        "colab": {
          "base_uri": "https://localhost:8080/"
        }
      },
      "source": [
        "  #checking the sex column\n",
        "stud_math.sex.value_counts()"
      ],
      "execution_count": 128,
      "outputs": [
        {
          "output_type": "execute_result",
          "data": {
            "text/plain": [
              "F    208\n",
              "M    187\n",
              "Name: sex, dtype: int64"
            ]
          },
          "metadata": {
            "tags": []
          },
          "execution_count": 128
        }
      ]
    },
    {
      "cell_type": "code",
      "metadata": {
        "id": "wHej4oA83wyB",
        "outputId": "9339c88e-4b77-4841-f3ae-783732bdf379",
        "colab": {
          "base_uri": "https://localhost:8080/",
          "height": 418
        }
      },
      "source": [
        "  #checking the age column\n",
        "stud_math.age.hist()\n",
        "stud_math.age.describe()"
      ],
      "execution_count": 129,
      "outputs": [
        {
          "output_type": "execute_result",
          "data": {
            "text/plain": [
              "count    395.000000\n",
              "mean      16.696203\n",
              "std        1.276043\n",
              "min       15.000000\n",
              "25%       16.000000\n",
              "50%       17.000000\n",
              "75%       18.000000\n",
              "max       22.000000\n",
              "Name: age, dtype: float64"
            ]
          },
          "metadata": {
            "tags": []
          },
          "execution_count": 129
        },
        {
          "output_type": "display_data",
          "data": {
            "image/png": "[encoded data removed]",
            "text/plain": [
              "<Figure size 432x288 with 1 Axes>"
            ]
          },
          "metadata": {
            "tags": [],
            "needs_background": "light"
          }
        }
      ]
    },
    {
      "cell_type": "code",
      "metadata": {
        "id": "blo1yOpy31DJ",
        "outputId": "12d9c309-cc08-44ec-9a5d-daa393399620",
        "colab": {
          "base_uri": "https://localhost:8080/",
          "height": 418
        }
      },
      "source": [
        "#removing the outliers for age column\n",
        "stud_math.age = remove_outlier(stud_math.age)\n",
        "stud_math.age.hist()\n",
        "stud_math.age.describe()"
      ],
      "execution_count": 130,
      "outputs": [
        {
          "output_type": "execute_result",
          "data": {
            "text/plain": [
              "count    394.000000\n",
              "mean      16.682741\n",
              "std        1.249267\n",
              "min       15.000000\n",
              "25%       16.000000\n",
              "50%       17.000000\n",
              "75%       18.000000\n",
              "max       21.000000\n",
              "Name: age, dtype: float64"
            ]
          },
          "metadata": {
            "tags": []
          },
          "execution_count": 130
        },
        {
          "output_type": "display_data",
          "data": {
            "image/png": "[encoded data removed]",
            "text/plain": [
              "<Figure size 432x288 with 1 Axes>"
            ]
          },
          "metadata": {
            "tags": [],
            "needs_background": "light"
          }
        }
      ]
    },
    {
      "cell_type": "code",
      "metadata": {
        "id": "8aBiyq4259Uq",
        "outputId": "0bfcd213-c5e4-4601-d759-0784c66f0345",
        "colab": {
          "base_uri": "https://localhost:8080/"
        }
      },
      "source": [
        " #checking the address column\n",
        "stud_math.address.value_counts()"
      ],
      "execution_count": 131,
      "outputs": [
        {
          "output_type": "execute_result",
          "data": {
            "text/plain": [
              "U    295\n",
              "R     83\n",
              "Name: address, dtype: int64"
            ]
          },
          "metadata": {
            "tags": []
          },
          "execution_count": 131
        }
      ]
    },
    {
      "cell_type": "code",
      "metadata": {
        "id": "vQXL1DsH6zYf",
        "outputId": "03ec3326-8334-495c-e7f8-3c3fd417ca4e",
        "colab": {
          "base_uri": "https://localhost:8080/"
        }
      },
      "source": [
        " #checking the family_size column\n",
        "stud_math.family_size.value_counts()"
      ],
      "execution_count": 132,
      "outputs": [
        {
          "output_type": "execute_result",
          "data": {
            "text/plain": [
              "GT3    261\n",
              "LE3    107\n",
              "Name: family_size, dtype: int64"
            ]
          },
          "metadata": {
            "tags": []
          },
          "execution_count": 132
        }
      ]
    },
    {
      "cell_type": "code",
      "metadata": {
        "id": "JbysezQ076v-",
        "outputId": "39d5ae13-1db1-4bb5-8b95-1275b75228cc",
        "colab": {
          "base_uri": "https://localhost:8080/"
        }
      },
      "source": [
        "#updating the family_size column with more clear values\n",
        "stud_math.family_size[stud_math.family_size == 'GT3'] = 'less_or_equal_3'\n",
        "stud_math.family_size[stud_math.family_size == 'LE3'] = 'more_than_3'\n",
        "stud_math.family_size.value_counts()"
      ],
      "execution_count": 133,
      "outputs": [
        {
          "output_type": "stream",
          "text": [
            "/usr/local/lib/python3.6/dist-packages/ipykernel_launcher.py:2: SettingWithCopyWarning: \n",
            "A value is trying to be set on a copy of a slice from a DataFrame\n",
            "\n",
            "See the caveats in the documentation: https://pandas.pydata.org/pandas-docs/stable/user_guide/indexing.html#returning-a-view-versus-a-copy\n",
            "  \n",
            "/usr/local/lib/python3.6/dist-packages/ipykernel_launcher.py:3: SettingWithCopyWarning: \n",
            "A value is trying to be set on a copy of a slice from a DataFrame\n",
            "\n",
            "See the caveats in the documentation: https://pandas.pydata.org/pandas-docs/stable/user_guide/indexing.html#returning-a-view-versus-a-copy\n",
            "  This is separate from the ipykernel package so we can avoid doing imports until\n"
          ],
          "name": "stderr"
        },
        {
          "output_type": "execute_result",
          "data": {
            "text/plain": [
              "less_or_equal_3    261\n",
              "more_than_3        107\n",
              "Name: family_size, dtype: int64"
            ]
          },
          "metadata": {
            "tags": []
          },
          "execution_count": 133
        }
      ]
    },
    {
      "cell_type": "code",
      "metadata": {
        "id": "ZC3-ekxO7qPx",
        "outputId": "a073006c-7821-41c9-cbd0-bb2fcff982dc",
        "colab": {
          "base_uri": "https://localhost:8080/"
        }
      },
      "source": [
        " #checking the parents_status column\n",
        "stud_math.parents_status.value_counts()"
      ],
      "execution_count": 134,
      "outputs": [
        {
          "output_type": "execute_result",
          "data": {
            "text/plain": [
              "T    314\n",
              "A     36\n",
              "Name: parents_status, dtype: int64"
            ]
          },
          "metadata": {
            "tags": []
          },
          "execution_count": 134
        }
      ]
    },
    {
      "cell_type": "code",
      "metadata": {
        "id": "RunQv2hq70s4",
        "outputId": "91dc5aca-9270-491a-9f44-594261031a04",
        "colab": {
          "base_uri": "https://localhost:8080/"
        }
      },
      "source": [
        "#updating the parents_status column with more clear values\n",
        "stud_math.parents_status[stud_math.parents_status == 'T'] = 'together'\n",
        "stud_math.parents_status[stud_math.parents_status == 'A'] = 'separate'\n",
        "stud_math.parents_status.value_counts()"
      ],
      "execution_count": 135,
      "outputs": [
        {
          "output_type": "stream",
          "text": [
            "/usr/local/lib/python3.6/dist-packages/ipykernel_launcher.py:2: SettingWithCopyWarning: \n",
            "A value is trying to be set on a copy of a slice from a DataFrame\n",
            "\n",
            "See the caveats in the documentation: https://pandas.pydata.org/pandas-docs/stable/user_guide/indexing.html#returning-a-view-versus-a-copy\n",
            "  \n",
            "/usr/local/lib/python3.6/dist-packages/ipykernel_launcher.py:3: SettingWithCopyWarning: \n",
            "A value is trying to be set on a copy of a slice from a DataFrame\n",
            "\n",
            "See the caveats in the documentation: https://pandas.pydata.org/pandas-docs/stable/user_guide/indexing.html#returning-a-view-versus-a-copy\n",
            "  This is separate from the ipykernel package so we can avoid doing imports until\n"
          ],
          "name": "stderr"
        },
        {
          "output_type": "execute_result",
          "data": {
            "text/plain": [
              "together    314\n",
              "separate     36\n",
              "Name: parents_status, dtype: int64"
            ]
          },
          "metadata": {
            "tags": []
          },
          "execution_count": 135
        }
      ]
    },
    {
      "cell_type": "code",
      "metadata": {
        "id": "sSohR4xc88eH",
        "outputId": "e900552e-cb7c-4c70-9dc2-5a925f739586",
        "colab": {
          "base_uri": "https://localhost:8080/"
        }
      },
      "source": [
        " #checking the mother_edu column\n",
        " stud_math.mother_edu.value_counts()"
      ],
      "execution_count": 136,
      "outputs": [
        {
          "output_type": "execute_result",
          "data": {
            "text/plain": [
              "4.0    131\n",
              "2.0    102\n",
              "3.0     97\n",
              "1.0     59\n",
              "0.0      3\n",
              "Name: mother_edu, dtype: int64"
            ]
          },
          "metadata": {
            "tags": []
          },
          "execution_count": 136
        }
      ]
    },
    {
      "cell_type": "code",
      "metadata": {
        "id": "byNjtzNF9lsY",
        "outputId": "c919cb99-2eeb-48f6-9459-6a97fdc9ba38",
        "colab": {
          "base_uri": "https://localhost:8080/"
        }
      },
      "source": [
        "#checking the father_edu column\n",
        "stud_math.father_edu.value_counts()"
      ],
      "execution_count": 137,
      "outputs": [
        {
          "output_type": "execute_result",
          "data": {
            "text/plain": [
              "2.0     106\n",
              "3.0      96\n",
              "4.0      88\n",
              "1.0      78\n",
              "0.0       2\n",
              "40.0      1\n",
              "Name: father_edu, dtype: int64"
            ]
          },
          "metadata": {
            "tags": []
          },
          "execution_count": 137
        }
      ]
    },
    {
      "cell_type": "code",
      "metadata": {
        "id": "QOnukFUq9-8J",
        "outputId": "a75258c5-7015-4c75-e78a-df4439bfa2a1",
        "colab": {
          "base_uri": "https://localhost:8080/"
        }
      },
      "source": [
        "#removing the wrong value\n",
        "stud_math.father_edu = remove_wrongvalue(stud_math.father_edu,4,0)\n",
        "stud_math.father_edu.value_counts()"
      ],
      "execution_count": 139,
      "outputs": [
        {
          "output_type": "execute_result",
          "data": {
            "text/plain": [
              "2.0    106\n",
              "3.0     96\n",
              "4.0     88\n",
              "1.0     78\n",
              "0.0      2\n",
              "Name: father_edu, dtype: int64"
            ]
          },
          "metadata": {
            "tags": []
          },
          "execution_count": 139
        }
      ]
    },
    {
      "cell_type": "code",
      "metadata": {
        "id": "02042JvC-AoA",
        "outputId": "e64e41d3-2a6d-4403-b1ca-8e9892ac76bd",
        "colab": {
          "base_uri": "https://localhost:8080/"
        }
      },
      "source": [
        "#checking the mother_job column\n",
        "stud_math.mother_job.value_counts()"
      ],
      "execution_count": 140,
      "outputs": [
        {
          "output_type": "execute_result",
          "data": {
            "text/plain": [
              "other       133\n",
              "services     98\n",
              "at_home      58\n",
              "teacher      55\n",
              "health       32\n",
              "Name: mother_job, dtype: int64"
            ]
          },
          "metadata": {
            "tags": []
          },
          "execution_count": 140
        }
      ]
    },
    {
      "cell_type": "code",
      "metadata": {
        "id": "QLMsdH5V_7bb",
        "outputId": "a7366c06-a8ca-4779-ea3a-a8858da4f786",
        "colab": {
          "base_uri": "https://localhost:8080/"
        }
      },
      "source": [
        "#checking the father_job column\n",
        "stud_math.father_job.value_counts()"
      ],
      "execution_count": 141,
      "outputs": [
        {
          "output_type": "execute_result",
          "data": {
            "text/plain": [
              "other       197\n",
              "services    102\n",
              "teacher      29\n",
              "at_home      16\n",
              "health       15\n",
              "Name: father_job, dtype: int64"
            ]
          },
          "metadata": {
            "tags": []
          },
          "execution_count": 141
        }
      ]
    },
    {
      "cell_type": "code",
      "metadata": {
        "id": "AZ_z_4Z-ACSv",
        "outputId": "f12e1402-15ae-447a-d10c-adf8b1a44860",
        "colab": {
          "base_uri": "https://localhost:8080/"
        }
      },
      "source": [
        "#checking the reason column\n",
        "stud_math.reason.value_counts()"
      ],
      "execution_count": 142,
      "outputs": [
        {
          "output_type": "execute_result",
          "data": {
            "text/plain": [
              "course        137\n",
              "home          104\n",
              "reputation    103\n",
              "other          34\n",
              "Name: reason, dtype: int64"
            ]
          },
          "metadata": {
            "tags": []
          },
          "execution_count": 142
        }
      ]
    },
    {
      "cell_type": "code",
      "metadata": {
        "id": "u9q2MzBSAJW9",
        "outputId": "0c654a22-6a97-4e4b-b491-18ab55a9bef8",
        "colab": {
          "base_uri": "https://localhost:8080/"
        }
      },
      "source": [
        "#checking the guardian column\n",
        "stud_math.guardian.value_counts()"
      ],
      "execution_count": 143,
      "outputs": [
        {
          "output_type": "execute_result",
          "data": {
            "text/plain": [
              "mother    250\n",
              "father     86\n",
              "other      28\n",
              "Name: guardian, dtype: int64"
            ]
          },
          "metadata": {
            "tags": []
          },
          "execution_count": 143
        }
      ]
    },
    {
      "cell_type": "code",
      "metadata": {
        "id": "q72aD9YEAPeY",
        "outputId": "337f826c-139f-4880-aef9-463024a3f876",
        "colab": {
          "base_uri": "https://localhost:8080/"
        }
      },
      "source": [
        "#checking the travel_time column\n",
        "stud_math.travel_time.value_counts()"
      ],
      "execution_count": 144,
      "outputs": [
        {
          "output_type": "execute_result",
          "data": {
            "text/plain": [
              "1.0    242\n",
              "2.0     96\n",
              "3.0     22\n",
              "4.0      7\n",
              "Name: travel_time, dtype: int64"
            ]
          },
          "metadata": {
            "tags": []
          },
          "execution_count": 144
        }
      ]
    },
    {
      "cell_type": "code",
      "metadata": {
        "id": "KH_CRJGfAVBa",
        "outputId": "7bd3bf89-556a-4f8e-e45d-4ed2a0cf25e9",
        "colab": {
          "base_uri": "https://localhost:8080/"
        }
      },
      "source": [
        "#checking the study_time column\n",
        "stud_math.travel_time.value_counts()"
      ],
      "execution_count": 145,
      "outputs": [
        {
          "output_type": "execute_result",
          "data": {
            "text/plain": [
              "1.0    242\n",
              "2.0     96\n",
              "3.0     22\n",
              "4.0      7\n",
              "Name: travel_time, dtype: int64"
            ]
          },
          "metadata": {
            "tags": []
          },
          "execution_count": 145
        }
      ]
    },
    {
      "cell_type": "code",
      "metadata": {
        "id": "e1RTYhOTAZcz",
        "outputId": "d5e2f289-df89-4274-93a7-d82ebb728ce1",
        "colab": {
          "base_uri": "https://localhost:8080/"
        }
      },
      "source": [
        "#checking the failures column\n",
        "stud_math.failures.value_counts()"
      ],
      "execution_count": 146,
      "outputs": [
        {
          "output_type": "execute_result",
          "data": {
            "text/plain": [
              "0.0    293\n",
              "1.0     49\n",
              "2.0     16\n",
              "3.0     15\n",
              "Name: failures, dtype: int64"
            ]
          },
          "metadata": {
            "tags": []
          },
          "execution_count": 146
        }
      ]
    },
    {
      "cell_type": "code",
      "metadata": {
        "id": "Uh8r5m2tAzRF",
        "outputId": "4c2d168f-9760-404f-a6d0-a248c658be3c",
        "colab": {
          "base_uri": "https://localhost:8080/"
        }
      },
      "source": [
        "#checking the school_sup column\n",
        "stud_math.school_sup.value_counts()"
      ],
      "execution_count": 147,
      "outputs": [
        {
          "output_type": "execute_result",
          "data": {
            "text/plain": [
              "no     335\n",
              "yes     51\n",
              "Name: school_sup, dtype: int64"
            ]
          },
          "metadata": {
            "tags": []
          },
          "execution_count": 147
        }
      ]
    },
    {
      "cell_type": "code",
      "metadata": {
        "id": "bKfPoMJsA_GE",
        "outputId": "4afa74d6-5605-41d8-eb86-733737826b39",
        "colab": {
          "base_uri": "https://localhost:8080/"
        }
      },
      "source": [
        "#checking the family_sup column\n",
        "stud_math.family_sup.value_counts()"
      ],
      "execution_count": 148,
      "outputs": [
        {
          "output_type": "execute_result",
          "data": {
            "text/plain": [
              "yes    219\n",
              "no     137\n",
              "Name: family_sup, dtype: int64"
            ]
          },
          "metadata": {
            "tags": []
          },
          "execution_count": 148
        }
      ]
    },
    {
      "cell_type": "code",
      "metadata": {
        "id": "baNrSYBXBFJM",
        "outputId": "fcda59c2-f322-404b-8faf-58f88fb07dc9",
        "colab": {
          "base_uri": "https://localhost:8080/"
        }
      },
      "source": [
        "#checking the paid_classes column\n",
        "stud_math.paid_classes.value_counts()"
      ],
      "execution_count": 149,
      "outputs": [
        {
          "output_type": "execute_result",
          "data": {
            "text/plain": [
              "no     200\n",
              "yes    155\n",
              "Name: paid_classes, dtype: int64"
            ]
          },
          "metadata": {
            "tags": []
          },
          "execution_count": 149
        }
      ]
    },
    {
      "cell_type": "code",
      "metadata": {
        "id": "1g6Vido2BM5m",
        "outputId": "ae150acc-e57d-4dc1-ed4a-7c5561963447",
        "colab": {
          "base_uri": "https://localhost:8080/"
        }
      },
      "source": [
        "#checking the activities column\n",
        "stud_math.activities.value_counts()"
      ],
      "execution_count": 150,
      "outputs": [
        {
          "output_type": "execute_result",
          "data": {
            "text/plain": [
              "yes    195\n",
              "no     186\n",
              "Name: activities, dtype: int64"
            ]
          },
          "metadata": {
            "tags": []
          },
          "execution_count": 150
        }
      ]
    },
    {
      "cell_type": "code",
      "metadata": {
        "id": "UGQE2MOwBSHR",
        "outputId": "e17a4c1e-f359-4ee1-b4cd-51c76331cbf0",
        "colab": {
          "base_uri": "https://localhost:8080/"
        }
      },
      "source": [
        "#checking the nursery column\n",
        "stud_math.nursery.value_counts()"
      ],
      "execution_count": 151,
      "outputs": [
        {
          "output_type": "execute_result",
          "data": {
            "text/plain": [
              "yes    300\n",
              "no      79\n",
              "Name: nursery, dtype: int64"
            ]
          },
          "metadata": {
            "tags": []
          },
          "execution_count": 151
        }
      ]
    },
    {
      "cell_type": "code",
      "metadata": {
        "id": "n9SfQlUDBXC8"
      },
      "source": [
        "#removing the study_time_granular column from the dataset\n",
        "stud_math.drop(['study_time_granular'], inplace = True, axis = 1)"
      ],
      "execution_count": 152,
      "outputs": []
    },
    {
      "cell_type": "code",
      "metadata": {
        "id": "KIxZF7szB20J",
        "outputId": "a827a831-54a1-4baf-a26d-16eba5a02849",
        "colab": {
          "base_uri": "https://localhost:8080/"
        }
      },
      "source": [
        "#checking the higher column\n",
        "stud_math.higher.value_counts()"
      ],
      "execution_count": 153,
      "outputs": [
        {
          "output_type": "execute_result",
          "data": {
            "text/plain": [
              "yes    356\n",
              "no      19\n",
              "Name: higher, dtype: int64"
            ]
          },
          "metadata": {
            "tags": []
          },
          "execution_count": 153
        }
      ]
    },
    {
      "cell_type": "code",
      "metadata": {
        "id": "SJpjzSc2C-C5",
        "outputId": "b3f1c464-9ccb-444a-fdee-edf5fb2ff593",
        "colab": {
          "base_uri": "https://localhost:8080/"
        }
      },
      "source": [
        "#checking the internet column\n",
        "stud_math.internet.value_counts()"
      ],
      "execution_count": 154,
      "outputs": [
        {
          "output_type": "execute_result",
          "data": {
            "text/plain": [
              "yes    305\n",
              "no      56\n",
              "Name: internet, dtype: int64"
            ]
          },
          "metadata": {
            "tags": []
          },
          "execution_count": 154
        }
      ]
    },
    {
      "cell_type": "code",
      "metadata": {
        "id": "iPNICDVvDFYu",
        "outputId": "f60d90ce-48d4-4873-b87f-60d4a1dbf356",
        "colab": {
          "base_uri": "https://localhost:8080/"
        }
      },
      "source": [
        "#checking the romantic column\n",
        "stud_math.romantic[stud_math.romantic=='yes'] = True\n",
        "stud_math.romantic[stud_math.romantic=='no'] = False\n",
        "\n",
        "stud_math.romantic.value_counts()"
      ],
      "execution_count": 168,
      "outputs": [
        {
          "output_type": "stream",
          "text": [
            "/usr/local/lib/python3.6/dist-packages/ipykernel_launcher.py:2: SettingWithCopyWarning: \n",
            "A value is trying to be set on a copy of a slice from a DataFrame\n",
            "\n",
            "See the caveats in the documentation: https://pandas.pydata.org/pandas-docs/stable/user_guide/indexing.html#returning-a-view-versus-a-copy\n",
            "  \n",
            "/usr/local/lib/python3.6/dist-packages/ipykernel_launcher.py:3: SettingWithCopyWarning: \n",
            "A value is trying to be set on a copy of a slice from a DataFrame\n",
            "\n",
            "See the caveats in the documentation: https://pandas.pydata.org/pandas-docs/stable/user_guide/indexing.html#returning-a-view-versus-a-copy\n",
            "  This is separate from the ipykernel package so we can avoid doing imports until\n"
          ],
          "name": "stderr"
        },
        {
          "output_type": "execute_result",
          "data": {
            "text/plain": [
              "False    240\n",
              "True     124\n",
              "Name: romantic, dtype: int64"
            ]
          },
          "metadata": {
            "tags": []
          },
          "execution_count": 168
        }
      ]
    },
    {
      "cell_type": "code",
      "metadata": {
        "id": "J5vl5eHZDML9",
        "outputId": "38c08496-3666-4069-d209-ab831f66c6cc",
        "colab": {
          "base_uri": "https://localhost:8080/"
        }
      },
      "source": [
        "#checking the family_rel column\n",
        "stud_math.family_rel.value_counts()"
      ],
      "execution_count": 156,
      "outputs": [
        {
          "output_type": "execute_result",
          "data": {
            "text/plain": [
              " 4.0    182\n",
              " 5.0     99\n",
              " 3.0     62\n",
              " 2.0     17\n",
              " 1.0      7\n",
              "-1.0      1\n",
              "Name: family_rel, dtype: int64"
            ]
          },
          "metadata": {
            "tags": []
          },
          "execution_count": 156
        }
      ]
    },
    {
      "cell_type": "code",
      "metadata": {
        "id": "EKS1rQyFDuQm",
        "outputId": "062f2dfb-fd42-481f-895a-4692db31bd18",
        "colab": {
          "base_uri": "https://localhost:8080/"
        }
      },
      "source": [
        "#removing the wrong value from family_rel column\n",
        "stud_math.family_rel = remove_wrongvalue(stud_math.family_rel,5,1)\n",
        "stud_math.family_rel.value_counts()"
      ],
      "execution_count": 157,
      "outputs": [
        {
          "output_type": "execute_result",
          "data": {
            "text/plain": [
              "4.0    182\n",
              "5.0     99\n",
              "3.0     62\n",
              "2.0     17\n",
              "1.0      7\n",
              "Name: family_rel, dtype: int64"
            ]
          },
          "metadata": {
            "tags": []
          },
          "execution_count": 157
        }
      ]
    },
    {
      "cell_type": "code",
      "metadata": {
        "id": "_WLkV9mtEAoT",
        "outputId": "050f8870-09b8-41c3-ffee-36b2eaca2b0f",
        "colab": {
          "base_uri": "https://localhost:8080/"
        }
      },
      "source": [
        "#checking the free_time column\n",
        "stud_math.free_time.value_counts()"
      ],
      "execution_count": 158,
      "outputs": [
        {
          "output_type": "execute_result",
          "data": {
            "text/plain": [
              "3.0    153\n",
              "4.0    112\n",
              "2.0     63\n",
              "5.0     38\n",
              "1.0     18\n",
              "Name: free_time, dtype: int64"
            ]
          },
          "metadata": {
            "tags": []
          },
          "execution_count": 158
        }
      ]
    },
    {
      "cell_type": "code",
      "metadata": {
        "id": "YI1K4dsNF-1t",
        "outputId": "b86753c6-3704-406d-ec5b-2ffaa0aed669",
        "colab": {
          "base_uri": "https://localhost:8080/"
        }
      },
      "source": [
        "#checking the go_out column\n",
        "stud_math.go_out.value_counts()"
      ],
      "execution_count": 159,
      "outputs": [
        {
          "output_type": "execute_result",
          "data": {
            "text/plain": [
              "3.0    127\n",
              "2.0    101\n",
              "4.0     84\n",
              "5.0     52\n",
              "1.0     23\n",
              "Name: go_out, dtype: int64"
            ]
          },
          "metadata": {
            "tags": []
          },
          "execution_count": 159
        }
      ]
    },
    {
      "cell_type": "code",
      "metadata": {
        "id": "pR-8a03jGEtt",
        "outputId": "2881bfbc-02df-4c1f-d51a-2b652b91c628",
        "colab": {
          "base_uri": "https://localhost:8080/"
        }
      },
      "source": [
        "#checking the health column\n",
        "stud_math.health.value_counts()"
      ],
      "execution_count": 160,
      "outputs": [
        {
          "output_type": "execute_result",
          "data": {
            "text/plain": [
              "5.0    138\n",
              "3.0     89\n",
              "4.0     63\n",
              "1.0     47\n",
              "2.0     43\n",
              "Name: health, dtype: int64"
            ]
          },
          "metadata": {
            "tags": []
          },
          "execution_count": 160
        }
      ]
    },
    {
      "cell_type": "code",
      "metadata": {
        "id": "IVKEBNufGJ4d",
        "outputId": "aff3de10-092d-4f45-f712-a4862fa1e941",
        "colab": {
          "base_uri": "https://localhost:8080/"
        }
      },
      "source": [
        "#checking the absences column\n",
        "stud_math.absences.value_counts()"
      ],
      "execution_count": 161,
      "outputs": [
        {
          "output_type": "execute_result",
          "data": {
            "text/plain": [
              "0.0      111\n",
              "2.0       60\n",
              "4.0       53\n",
              "6.0       31\n",
              "8.0       21\n",
              "10.0      17\n",
              "12.0      12\n",
              "14.0      12\n",
              "3.0        8\n",
              "16.0       7\n",
              "7.0        6\n",
              "5.0        5\n",
              "18.0       5\n",
              "20.0       4\n",
              "22.0       3\n",
              "9.0        3\n",
              "1.0        3\n",
              "15.0       2\n",
              "13.0       2\n",
              "11.0       2\n",
              "25.0       1\n",
              "54.0       1\n",
              "385.0      1\n",
              "26.0       1\n",
              "56.0       1\n",
              "24.0       1\n",
              "212.0      1\n",
              "21.0       1\n",
              "75.0       1\n",
              "30.0       1\n",
              "19.0       1\n",
              "38.0       1\n",
              "40.0       1\n",
              "23.0       1\n",
              "17.0       1\n",
              "28.0       1\n",
              "Name: absences, dtype: int64"
            ]
          },
          "metadata": {
            "tags": []
          },
          "execution_count": 161
        }
      ]
    },
    {
      "cell_type": "code",
      "metadata": {
        "id": "MecwqdLtGQT3",
        "outputId": "fa0608fc-1f1f-4fa2-a734-9108689dcc3a",
        "colab": {
          "base_uri": "https://localhost:8080/"
        }
      },
      "source": [
        "#removing the outlier values from absences column\n",
        "stud_math.absences = remove_outlier(stud_math.absences)\n",
        "stud_math.absences.value_counts()"
      ],
      "execution_count": 162,
      "outputs": [
        {
          "output_type": "execute_result",
          "data": {
            "text/plain": [
              "0.0     111\n",
              "2.0      60\n",
              "4.0      53\n",
              "6.0      31\n",
              "8.0      21\n",
              "10.0     17\n",
              "12.0     12\n",
              "14.0     12\n",
              "3.0       8\n",
              "16.0      7\n",
              "7.0       6\n",
              "18.0      5\n",
              "5.0       5\n",
              "20.0      4\n",
              "1.0       3\n",
              "9.0       3\n",
              "11.0      2\n",
              "13.0      2\n",
              "15.0      2\n",
              "19.0      1\n",
              "17.0      1\n",
              "Name: absences, dtype: int64"
            ]
          },
          "metadata": {
            "tags": []
          },
          "execution_count": 162
        }
      ]
    },
    {
      "cell_type": "code",
      "metadata": {
        "id": "ZXAov-JlGigu",
        "outputId": "91c5d270-b732-4eb8-b7eb-9152e08f4ebd",
        "colab": {
          "base_uri": "https://localhost:8080/"
        }
      },
      "source": [
        "#checking the score column\n",
        "stud_math.score.value_counts()"
      ],
      "execution_count": 163,
      "outputs": [
        {
          "output_type": "execute_result",
          "data": {
            "text/plain": [
              "50.0     54\n",
              "55.0     46\n",
              "0.0      37\n",
              "75.0     33\n",
              "65.0     31\n",
              "40.0     31\n",
              "60.0     31\n",
              "70.0     27\n",
              "45.0     27\n",
              "80.0     16\n",
              "30.0     15\n",
              "90.0     12\n",
              "35.0      9\n",
              "25.0      7\n",
              "85.0      6\n",
              "95.0      5\n",
              "100.0     1\n",
              "20.0      1\n",
              "Name: score, dtype: int64"
            ]
          },
          "metadata": {
            "tags": []
          },
          "execution_count": 163
        }
      ]
    },
    {
      "cell_type": "code",
      "metadata": {
        "id": "XAN1WwjqGxwz",
        "outputId": "e7728e8d-9028-48ae-f9e7-263483a7d2ea",
        "colab": {
          "base_uri": "https://localhost:8080/"
        }
      },
      "source": [
        "#removing the outlier values from score column\n",
        "stud_math.score = remove_outlier(stud_math.score)\n",
        "stud_math.score.value_counts()"
      ],
      "execution_count": 164,
      "outputs": [
        {
          "output_type": "execute_result",
          "data": {
            "text/plain": [
              "50.0     54\n",
              "55.0     46\n",
              "0.0      37\n",
              "75.0     33\n",
              "65.0     31\n",
              "40.0     31\n",
              "60.0     31\n",
              "70.0     27\n",
              "45.0     27\n",
              "80.0     16\n",
              "30.0     15\n",
              "90.0     12\n",
              "35.0      9\n",
              "25.0      7\n",
              "85.0      6\n",
              "95.0      5\n",
              "100.0     1\n",
              "20.0      1\n",
              "Name: score, dtype: int64"
            ]
          },
          "metadata": {
            "tags": []
          },
          "execution_count": 164
        }
      ]
    },
    {
      "cell_type": "code",
      "metadata": {
        "id": "P7MhHikFG89S",
        "outputId": "a20db126-95c6-465a-c16a-5a069bd6165d",
        "colab": {
          "base_uri": "https://localhost:8080/",
          "height": 421
        }
      },
      "source": [
        "#large correlation table between numeral columns\n",
        "stud_math.corr()"
      ],
      "execution_count": 169,
      "outputs": [
        {
          "output_type": "execute_result",
          "data": {
            "text/html": [
              "<div>\n",
              "<style scoped>\n",
              "    .dataframe tbody tr th:only-of-type {\n",
              "        vertical-align: middle;\n",
              "    }\n",
              "\n",
              "    .dataframe tbody tr th {\n",
              "        vertical-align: top;\n",
              "    }\n",
              "\n",
              "    .dataframe thead th {\n",
              "        text-align: right;\n",
              "    }\n",
              "</style>\n",
              "<table border=\"1\" class=\"dataframe\">\n",
              "  <thead>\n",
              "    <tr style=\"text-align: right;\">\n",
              "      <th></th>\n",
              "      <th>age</th>\n",
              "      <th>mother_edu</th>\n",
              "      <th>father_edu</th>\n",
              "      <th>travel_time</th>\n",
              "      <th>study_time</th>\n",
              "      <th>failures</th>\n",
              "      <th>family_rel</th>\n",
              "      <th>free_time</th>\n",
              "      <th>go_out</th>\n",
              "      <th>health</th>\n",
              "      <th>absences</th>\n",
              "      <th>score</th>\n",
              "    </tr>\n",
              "  </thead>\n",
              "  <tbody>\n",
              "    <tr>\n",
              "      <th>age</th>\n",
              "      <td>1.000000</td>\n",
              "      <td>-0.167883</td>\n",
              "      <td>-0.147779</td>\n",
              "      <td>0.090864</td>\n",
              "      <td>-0.002354</td>\n",
              "      <td>0.195891</td>\n",
              "      <td>0.051487</td>\n",
              "      <td>0.021067</td>\n",
              "      <td>0.119997</td>\n",
              "      <td>-0.047402</td>\n",
              "      <td>0.129016</td>\n",
              "      <td>-0.153518</td>\n",
              "    </tr>\n",
              "    <tr>\n",
              "      <th>mother_edu</th>\n",
              "      <td>-0.167883</td>\n",
              "      <td>1.000000</td>\n",
              "      <td>0.629956</td>\n",
              "      <td>-0.173515</td>\n",
              "      <td>0.078589</td>\n",
              "      <td>-0.245463</td>\n",
              "      <td>-0.020896</td>\n",
              "      <td>0.025335</td>\n",
              "      <td>0.064164</td>\n",
              "      <td>-0.045051</td>\n",
              "      <td>0.065712</td>\n",
              "      <td>0.213349</td>\n",
              "    </tr>\n",
              "    <tr>\n",
              "      <th>father_edu</th>\n",
              "      <td>-0.147779</td>\n",
              "      <td>0.629956</td>\n",
              "      <td>1.000000</td>\n",
              "      <td>-0.155459</td>\n",
              "      <td>0.008603</td>\n",
              "      <td>-0.271936</td>\n",
              "      <td>-0.035788</td>\n",
              "      <td>-0.021415</td>\n",
              "      <td>0.046581</td>\n",
              "      <td>0.022588</td>\n",
              "      <td>-0.021415</td>\n",
              "      <td>0.130002</td>\n",
              "    </tr>\n",
              "    <tr>\n",
              "      <th>travel_time</th>\n",
              "      <td>0.090864</td>\n",
              "      <td>-0.173515</td>\n",
              "      <td>-0.155459</td>\n",
              "      <td>1.000000</td>\n",
              "      <td>-0.102206</td>\n",
              "      <td>0.064699</td>\n",
              "      <td>-0.028220</td>\n",
              "      <td>-0.021937</td>\n",
              "      <td>0.037636</td>\n",
              "      <td>-0.021531</td>\n",
              "      <td>-0.047995</td>\n",
              "      <td>-0.070559</td>\n",
              "    </tr>\n",
              "    <tr>\n",
              "      <th>study_time</th>\n",
              "      <td>-0.002354</td>\n",
              "      <td>0.078589</td>\n",
              "      <td>0.008603</td>\n",
              "      <td>-0.102206</td>\n",
              "      <td>1.000000</td>\n",
              "      <td>-0.178992</td>\n",
              "      <td>0.028918</td>\n",
              "      <td>-0.121969</td>\n",
              "      <td>-0.051280</td>\n",
              "      <td>-0.080016</td>\n",
              "      <td>-0.078099</td>\n",
              "      <td>0.115741</td>\n",
              "    </tr>\n",
              "    <tr>\n",
              "      <th>failures</th>\n",
              "      <td>0.195891</td>\n",
              "      <td>-0.245463</td>\n",
              "      <td>-0.271936</td>\n",
              "      <td>0.064699</td>\n",
              "      <td>-0.178992</td>\n",
              "      <td>1.000000</td>\n",
              "      <td>0.011942</td>\n",
              "      <td>0.098382</td>\n",
              "      <td>0.120914</td>\n",
              "      <td>0.081284</td>\n",
              "      <td>0.081801</td>\n",
              "      <td>-0.344338</td>\n",
              "    </tr>\n",
              "    <tr>\n",
              "      <th>family_rel</th>\n",
              "      <td>0.051487</td>\n",
              "      <td>-0.020896</td>\n",
              "      <td>-0.035788</td>\n",
              "      <td>-0.028220</td>\n",
              "      <td>0.028918</td>\n",
              "      <td>0.011942</td>\n",
              "      <td>1.000000</td>\n",
              "      <td>0.164324</td>\n",
              "      <td>0.069241</td>\n",
              "      <td>0.097910</td>\n",
              "      <td>-0.073509</td>\n",
              "      <td>0.051219</td>\n",
              "    </tr>\n",
              "    <tr>\n",
              "      <th>free_time</th>\n",
              "      <td>0.021067</td>\n",
              "      <td>0.025335</td>\n",
              "      <td>-0.021415</td>\n",
              "      <td>-0.021937</td>\n",
              "      <td>-0.121969</td>\n",
              "      <td>0.098382</td>\n",
              "      <td>0.164324</td>\n",
              "      <td>1.000000</td>\n",
              "      <td>0.296437</td>\n",
              "      <td>0.061575</td>\n",
              "      <td>0.093436</td>\n",
              "      <td>0.019026</td>\n",
              "    </tr>\n",
              "    <tr>\n",
              "      <th>go_out</th>\n",
              "      <td>0.119997</td>\n",
              "      <td>0.064164</td>\n",
              "      <td>0.046581</td>\n",
              "      <td>0.037636</td>\n",
              "      <td>-0.051280</td>\n",
              "      <td>0.120914</td>\n",
              "      <td>0.069241</td>\n",
              "      <td>0.296437</td>\n",
              "      <td>1.000000</td>\n",
              "      <td>-0.015608</td>\n",
              "      <td>0.111587</td>\n",
              "      <td>-0.129685</td>\n",
              "    </tr>\n",
              "    <tr>\n",
              "      <th>health</th>\n",
              "      <td>-0.047402</td>\n",
              "      <td>-0.045051</td>\n",
              "      <td>0.022588</td>\n",
              "      <td>-0.021531</td>\n",
              "      <td>-0.080016</td>\n",
              "      <td>0.081284</td>\n",
              "      <td>0.097910</td>\n",
              "      <td>0.061575</td>\n",
              "      <td>-0.015608</td>\n",
              "      <td>1.000000</td>\n",
              "      <td>-0.014358</td>\n",
              "      <td>-0.070460</td>\n",
              "    </tr>\n",
              "    <tr>\n",
              "      <th>absences</th>\n",
              "      <td>0.129016</td>\n",
              "      <td>0.065712</td>\n",
              "      <td>-0.021415</td>\n",
              "      <td>-0.047995</td>\n",
              "      <td>-0.078099</td>\n",
              "      <td>0.081801</td>\n",
              "      <td>-0.073509</td>\n",
              "      <td>0.093436</td>\n",
              "      <td>0.111587</td>\n",
              "      <td>-0.014358</td>\n",
              "      <td>1.000000</td>\n",
              "      <td>0.081274</td>\n",
              "    </tr>\n",
              "    <tr>\n",
              "      <th>score</th>\n",
              "      <td>-0.153518</td>\n",
              "      <td>0.213349</td>\n",
              "      <td>0.130002</td>\n",
              "      <td>-0.070559</td>\n",
              "      <td>0.115741</td>\n",
              "      <td>-0.344338</td>\n",
              "      <td>0.051219</td>\n",
              "      <td>0.019026</td>\n",
              "      <td>-0.129685</td>\n",
              "      <td>-0.070460</td>\n",
              "      <td>0.081274</td>\n",
              "      <td>1.000000</td>\n",
              "    </tr>\n",
              "  </tbody>\n",
              "</table>\n",
              "</div>"
            ],
            "text/plain": [
              "                  age  mother_edu  father_edu  travel_time  study_time  \\\n",
              "age          1.000000   -0.167883   -0.147779     0.090864   -0.002354   \n",
              "mother_edu  -0.167883    1.000000    0.629956    -0.173515    0.078589   \n",
              "father_edu  -0.147779    0.629956    1.000000    -0.155459    0.008603   \n",
              "travel_time  0.090864   -0.173515   -0.155459     1.000000   -0.102206   \n",
              "study_time  -0.002354    0.078589    0.008603    -0.102206    1.000000   \n",
              "failures     0.195891   -0.245463   -0.271936     0.064699   -0.178992   \n",
              "family_rel   0.051487   -0.020896   -0.035788    -0.028220    0.028918   \n",
              "free_time    0.021067    0.025335   -0.021415    -0.021937   -0.121969   \n",
              "go_out       0.119997    0.064164    0.046581     0.037636   -0.051280   \n",
              "health      -0.047402   -0.045051    0.022588    -0.021531   -0.080016   \n",
              "absences     0.129016    0.065712   -0.021415    -0.047995   -0.078099   \n",
              "score       -0.153518    0.213349    0.130002    -0.070559    0.115741   \n",
              "\n",
              "             failures  family_rel  free_time    go_out    health  absences  \\\n",
              "age          0.195891    0.051487   0.021067  0.119997 -0.047402  0.129016   \n",
              "mother_edu  -0.245463   -0.020896   0.025335  0.064164 -0.045051  0.065712   \n",
              "father_edu  -0.271936   -0.035788  -0.021415  0.046581  0.022588 -0.021415   \n",
              "travel_time  0.064699   -0.028220  -0.021937  0.037636 -0.021531 -0.047995   \n",
              "study_time  -0.178992    0.028918  -0.121969 -0.051280 -0.080016 -0.078099   \n",
              "failures     1.000000    0.011942   0.098382  0.120914  0.081284  0.081801   \n",
              "family_rel   0.011942    1.000000   0.164324  0.069241  0.097910 -0.073509   \n",
              "free_time    0.098382    0.164324   1.000000  0.296437  0.061575  0.093436   \n",
              "go_out       0.120914    0.069241   0.296437  1.000000 -0.015608  0.111587   \n",
              "health       0.081284    0.097910   0.061575 -0.015608  1.000000 -0.014358   \n",
              "absences     0.081801   -0.073509   0.093436  0.111587 -0.014358  1.000000   \n",
              "score       -0.344338    0.051219   0.019026 -0.129685 -0.070460  0.081274   \n",
              "\n",
              "                score  \n",
              "age         -0.153518  \n",
              "mother_edu   0.213349  \n",
              "father_edu   0.130002  \n",
              "travel_time -0.070559  \n",
              "study_time   0.115741  \n",
              "failures    -0.344338  \n",
              "family_rel   0.051219  \n",
              "free_time    0.019026  \n",
              "go_out      -0.129685  \n",
              "health      -0.070460  \n",
              "absences     0.081274  \n",
              "score        1.000000  "
            ]
          },
          "metadata": {
            "tags": []
          },
          "execution_count": 169
        }
      ]
    },
    {
      "cell_type": "code",
      "metadata": {
        "id": "MScAuPYgHnPk",
        "outputId": "7328a986-f602-4c44-dd0e-9277c20e3279",
        "colab": {
          "base_uri": "https://localhost:8080/",
          "height": 421
        }
      },
      "source": [
        "#filtering the positive correlation values to make a short summary\n",
        "stud_corr = stud_math.corr()\n",
        "for corr in stud_corr:\n",
        "  stud_corr[corr][stud_corr[corr]<0.1] = None\n",
        "stud_corr"
      ],
      "execution_count": 181,
      "outputs": [
        {
          "output_type": "execute_result",
          "data": {
            "text/html": [
              "<div>\n",
              "<style scoped>\n",
              "    .dataframe tbody tr th:only-of-type {\n",
              "        vertical-align: middle;\n",
              "    }\n",
              "\n",
              "    .dataframe tbody tr th {\n",
              "        vertical-align: top;\n",
              "    }\n",
              "\n",
              "    .dataframe thead th {\n",
              "        text-align: right;\n",
              "    }\n",
              "</style>\n",
              "<table border=\"1\" class=\"dataframe\">\n",
              "  <thead>\n",
              "    <tr style=\"text-align: right;\">\n",
              "      <th></th>\n",
              "      <th>age</th>\n",
              "      <th>mother_edu</th>\n",
              "      <th>father_edu</th>\n",
              "      <th>travel_time</th>\n",
              "      <th>study_time</th>\n",
              "      <th>failures</th>\n",
              "      <th>family_rel</th>\n",
              "      <th>free_time</th>\n",
              "      <th>go_out</th>\n",
              "      <th>health</th>\n",
              "      <th>absences</th>\n",
              "      <th>score</th>\n",
              "    </tr>\n",
              "  </thead>\n",
              "  <tbody>\n",
              "    <tr>\n",
              "      <th>age</th>\n",
              "      <td>1.000000</td>\n",
              "      <td>NaN</td>\n",
              "      <td>NaN</td>\n",
              "      <td>NaN</td>\n",
              "      <td>NaN</td>\n",
              "      <td>0.195891</td>\n",
              "      <td>NaN</td>\n",
              "      <td>NaN</td>\n",
              "      <td>0.119997</td>\n",
              "      <td>NaN</td>\n",
              "      <td>0.129016</td>\n",
              "      <td>NaN</td>\n",
              "    </tr>\n",
              "    <tr>\n",
              "      <th>mother_edu</th>\n",
              "      <td>NaN</td>\n",
              "      <td>1.000000</td>\n",
              "      <td>0.629956</td>\n",
              "      <td>NaN</td>\n",
              "      <td>NaN</td>\n",
              "      <td>NaN</td>\n",
              "      <td>NaN</td>\n",
              "      <td>NaN</td>\n",
              "      <td>NaN</td>\n",
              "      <td>NaN</td>\n",
              "      <td>NaN</td>\n",
              "      <td>0.213349</td>\n",
              "    </tr>\n",
              "    <tr>\n",
              "      <th>father_edu</th>\n",
              "      <td>NaN</td>\n",
              "      <td>0.629956</td>\n",
              "      <td>1.000000</td>\n",
              "      <td>NaN</td>\n",
              "      <td>NaN</td>\n",
              "      <td>NaN</td>\n",
              "      <td>NaN</td>\n",
              "      <td>NaN</td>\n",
              "      <td>NaN</td>\n",
              "      <td>NaN</td>\n",
              "      <td>NaN</td>\n",
              "      <td>0.130002</td>\n",
              "    </tr>\n",
              "    <tr>\n",
              "      <th>travel_time</th>\n",
              "      <td>NaN</td>\n",
              "      <td>NaN</td>\n",
              "      <td>NaN</td>\n",
              "      <td>1.0</td>\n",
              "      <td>NaN</td>\n",
              "      <td>NaN</td>\n",
              "      <td>NaN</td>\n",
              "      <td>NaN</td>\n",
              "      <td>NaN</td>\n",
              "      <td>NaN</td>\n",
              "      <td>NaN</td>\n",
              "      <td>NaN</td>\n",
              "    </tr>\n",
              "    <tr>\n",
              "      <th>study_time</th>\n",
              "      <td>NaN</td>\n",
              "      <td>NaN</td>\n",
              "      <td>NaN</td>\n",
              "      <td>NaN</td>\n",
              "      <td>1.000000</td>\n",
              "      <td>NaN</td>\n",
              "      <td>NaN</td>\n",
              "      <td>NaN</td>\n",
              "      <td>NaN</td>\n",
              "      <td>NaN</td>\n",
              "      <td>NaN</td>\n",
              "      <td>0.115741</td>\n",
              "    </tr>\n",
              "    <tr>\n",
              "      <th>failures</th>\n",
              "      <td>0.195891</td>\n",
              "      <td>NaN</td>\n",
              "      <td>NaN</td>\n",
              "      <td>NaN</td>\n",
              "      <td>NaN</td>\n",
              "      <td>1.000000</td>\n",
              "      <td>NaN</td>\n",
              "      <td>NaN</td>\n",
              "      <td>0.120914</td>\n",
              "      <td>NaN</td>\n",
              "      <td>NaN</td>\n",
              "      <td>NaN</td>\n",
              "    </tr>\n",
              "    <tr>\n",
              "      <th>family_rel</th>\n",
              "      <td>NaN</td>\n",
              "      <td>NaN</td>\n",
              "      <td>NaN</td>\n",
              "      <td>NaN</td>\n",
              "      <td>NaN</td>\n",
              "      <td>NaN</td>\n",
              "      <td>1.000000</td>\n",
              "      <td>0.164324</td>\n",
              "      <td>NaN</td>\n",
              "      <td>NaN</td>\n",
              "      <td>NaN</td>\n",
              "      <td>NaN</td>\n",
              "    </tr>\n",
              "    <tr>\n",
              "      <th>free_time</th>\n",
              "      <td>NaN</td>\n",
              "      <td>NaN</td>\n",
              "      <td>NaN</td>\n",
              "      <td>NaN</td>\n",
              "      <td>NaN</td>\n",
              "      <td>NaN</td>\n",
              "      <td>0.164324</td>\n",
              "      <td>1.000000</td>\n",
              "      <td>0.296437</td>\n",
              "      <td>NaN</td>\n",
              "      <td>NaN</td>\n",
              "      <td>NaN</td>\n",
              "    </tr>\n",
              "    <tr>\n",
              "      <th>go_out</th>\n",
              "      <td>0.119997</td>\n",
              "      <td>NaN</td>\n",
              "      <td>NaN</td>\n",
              "      <td>NaN</td>\n",
              "      <td>NaN</td>\n",
              "      <td>0.120914</td>\n",
              "      <td>NaN</td>\n",
              "      <td>0.296437</td>\n",
              "      <td>1.000000</td>\n",
              "      <td>NaN</td>\n",
              "      <td>0.111587</td>\n",
              "      <td>NaN</td>\n",
              "    </tr>\n",
              "    <tr>\n",
              "      <th>health</th>\n",
              "      <td>NaN</td>\n",
              "      <td>NaN</td>\n",
              "      <td>NaN</td>\n",
              "      <td>NaN</td>\n",
              "      <td>NaN</td>\n",
              "      <td>NaN</td>\n",
              "      <td>NaN</td>\n",
              "      <td>NaN</td>\n",
              "      <td>NaN</td>\n",
              "      <td>1.0</td>\n",
              "      <td>NaN</td>\n",
              "      <td>NaN</td>\n",
              "    </tr>\n",
              "    <tr>\n",
              "      <th>absences</th>\n",
              "      <td>0.129016</td>\n",
              "      <td>NaN</td>\n",
              "      <td>NaN</td>\n",
              "      <td>NaN</td>\n",
              "      <td>NaN</td>\n",
              "      <td>NaN</td>\n",
              "      <td>NaN</td>\n",
              "      <td>NaN</td>\n",
              "      <td>0.111587</td>\n",
              "      <td>NaN</td>\n",
              "      <td>1.000000</td>\n",
              "      <td>NaN</td>\n",
              "    </tr>\n",
              "    <tr>\n",
              "      <th>score</th>\n",
              "      <td>NaN</td>\n",
              "      <td>0.213349</td>\n",
              "      <td>0.130002</td>\n",
              "      <td>NaN</td>\n",
              "      <td>0.115741</td>\n",
              "      <td>NaN</td>\n",
              "      <td>NaN</td>\n",
              "      <td>NaN</td>\n",
              "      <td>NaN</td>\n",
              "      <td>NaN</td>\n",
              "      <td>NaN</td>\n",
              "      <td>1.000000</td>\n",
              "    </tr>\n",
              "  </tbody>\n",
              "</table>\n",
              "</div>"
            ],
            "text/plain": [
              "                  age  mother_edu  father_edu  travel_time  study_time  \\\n",
              "age          1.000000         NaN         NaN          NaN         NaN   \n",
              "mother_edu        NaN    1.000000    0.629956          NaN         NaN   \n",
              "father_edu        NaN    0.629956    1.000000          NaN         NaN   \n",
              "travel_time       NaN         NaN         NaN          1.0         NaN   \n",
              "study_time        NaN         NaN         NaN          NaN    1.000000   \n",
              "failures     0.195891         NaN         NaN          NaN         NaN   \n",
              "family_rel        NaN         NaN         NaN          NaN         NaN   \n",
              "free_time         NaN         NaN         NaN          NaN         NaN   \n",
              "go_out       0.119997         NaN         NaN          NaN         NaN   \n",
              "health            NaN         NaN         NaN          NaN         NaN   \n",
              "absences     0.129016         NaN         NaN          NaN         NaN   \n",
              "score             NaN    0.213349    0.130002          NaN    0.115741   \n",
              "\n",
              "             failures  family_rel  free_time    go_out  health  absences  \\\n",
              "age          0.195891         NaN        NaN  0.119997     NaN  0.129016   \n",
              "mother_edu        NaN         NaN        NaN       NaN     NaN       NaN   \n",
              "father_edu        NaN         NaN        NaN       NaN     NaN       NaN   \n",
              "travel_time       NaN         NaN        NaN       NaN     NaN       NaN   \n",
              "study_time        NaN         NaN        NaN       NaN     NaN       NaN   \n",
              "failures     1.000000         NaN        NaN  0.120914     NaN       NaN   \n",
              "family_rel        NaN    1.000000   0.164324       NaN     NaN       NaN   \n",
              "free_time         NaN    0.164324   1.000000  0.296437     NaN       NaN   \n",
              "go_out       0.120914         NaN   0.296437  1.000000     NaN  0.111587   \n",
              "health            NaN         NaN        NaN       NaN     1.0       NaN   \n",
              "absences          NaN         NaN        NaN  0.111587     NaN  1.000000   \n",
              "score             NaN         NaN        NaN       NaN     NaN       NaN   \n",
              "\n",
              "                score  \n",
              "age               NaN  \n",
              "mother_edu   0.213349  \n",
              "father_edu   0.130002  \n",
              "travel_time       NaN  \n",
              "study_time   0.115741  \n",
              "failures          NaN  \n",
              "family_rel        NaN  \n",
              "free_time         NaN  \n",
              "go_out            NaN  \n",
              "health            NaN  \n",
              "absences          NaN  \n",
              "score        1.000000  "
            ]
          },
          "metadata": {
            "tags": []
          },
          "execution_count": 181
        }
      ]
    },
    {
      "cell_type": "markdown",
      "metadata": {
        "id": "vO_FYIEINRKw"
      },
      "source": [
        "Результаты оценки корреляции:\n",
        "\n",
        "1)\tЧасто образование родителей находится на одном уровне\n",
        "\n",
        "2)\tЧем выше уровень образования родителей – тем выше оценка у их детей\n",
        "\n",
        "3)\tЧем больше у детей свободного времени после школы – тем больше времени они проводят с друзьями\n",
        "\n",
        "4)\tЧем больше времени дети тратят на  учёбу помимо школы – тем выше их оценка"
      ]
    },
    {
      "cell_type": "code",
      "metadata": {
        "id": "q3hDVaQaJ7De",
        "outputId": "22777e7e-c0e0-4421-e4a2-5e081e56b7af",
        "colab": {
          "base_uri": "https://localhost:8080/",
          "height": 1000
        }
      },
      "source": [
        "#creating a boxplot for non-numeric nominative values\n",
        "for col in ['school', 'sex', 'address', 'family_size', 'parents_status',\n",
        "       'mother_job', 'father_jo b', 'reason', 'guardian', 'school_sup', 'family_sup', 'paid_classes', 'activities', 'nursery', 'higher', 'internet', 'romantic']:\n",
        "    get_boxplot(col)"
      ],
      "execution_count": 204,
      "outputs": [
        {
          "output_type": "display_data",
          "data": {
            "image/png": "[encoded data removed]",
            "text/plain": [
              "<Figure size 288x144 with 1 Axes>"
            ]
          },
          "metadata": {
            "tags": [],
            "needs_background": "light"
          }
        },
        {
          "output_type": "display_data",
          "data": {
            "image/png": "[encoded data removed]",
            "text/plain": [
              "<Figure size 288x144 with 1 Axes>"
            ]
          },
          "metadata": {
            "tags": [],
            "needs_background": "light"
          }
        },
        {
          "output_type": "display_data",
          "data": {
            "image/png": "[encoded data removed]",
            "text/plain": [
              "<Figure size 288x144 with 1 Axes>"
            ]
          },
          "metadata": {
            "tags": [],
            "needs_background": "light"
          }
        },
        {
          "output_type": "display_data",
          "data": {
            "image/png": "[encoded data removed]",
            "text/plain": [
              "<Figure size 288x144 with 1 Axes>"
            ]
          },
          "metadata": {
            "tags": [],
            "needs_background": "light"
          }
        },
        {
          "output_type": "display_data",
          "data": {
            "image/png": "[encoded data removed]",
            "text/plain": [
              "<Figure size 288x144 with 1 Axes>"
            ]
          },
          "metadata": {
            "tags": [],
            "needs_background": "light"
          }
        },
        {
          "output_type": "display_data",
          "data": {
            "image/png": "[encoded data removed]",
            "text/plain": [
              "<Figure size 288x144 with 1 Axes>"
            ]
          },
          "metadata": {
            "tags": [],
            "needs_background": "light"
          }
        },
        {
          "output_type": "display_data",
          "data": {
            "image/png": "[encoded data removed]",
            "text/plain": [
              "<Figure size 288x144 with 1 Axes>"
            ]
          },
          "metadata": {
            "tags": [],
            "needs_background": "light"
          }
        },
        {
          "output_type": "display_data",
          "data": {
            "image/png": "[encoded data removed]",
            "text/plain": [
              "<Figure size 288x144 with 1 Axes>"
            ]
          },
          "metadata": {
            "tags": [],
            "needs_background": "light"
          }
        },
        {
          "output_type": "display_data",
          "data": {
            "image/png": "[encoded data removed]",
            "text/plain": [
              "<Figure size 288x144 with 1 Axes>"
            ]
          },
          "metadata": {
            "tags": [],
            "needs_background": "light"
          }
        },
        {
          "output_type": "display_data",
          "data": {
            "image/png": "[encoded data removed]",
            "text/plain": [
              "<Figure size 288x144 with 1 Axes>"
            ]
          },
          "metadata": {
            "tags": [],
            "needs_background": "light"
          }
        },
        {
          "output_type": "display_data",
          "data": {
            "image/png": "[encoded data removed]",
            "text/plain": [
              "<Figure size 288x144 with 1 Axes>"
            ]
          },
          "metadata": {
            "tags": [],
            "needs_background": "light"
          }
        },
        {
          "output_type": "display_data",
          "data": {
            "image/png": "[encoded data removed]",
            "text/plain": [
              "<Figure size 288x144 with 1 Axes>"
            ]
          },
          "metadata": {
            "tags": [],
            "needs_background": "light"
          }
        },
        {
          "output_type": "display_data",
          "data": {
            "image/png": "[encoded data removed]",
            "text/plain": [
              "<Figure size 288x144 with 1 Axes>"
            ]
          },
          "metadata": {
            "tags": [],
            "needs_background": "light"
          }
        },
        {
          "output_type": "display_data",
          "data": {
            "image/png": "[encoded data removed]",
            "text/plain": [
              "<Figure size 288x144 with 1 Axes>"
            ]
          },
          "metadata": {
            "tags": [],
            "needs_background": "light"
          }
        },
        {
          "output_type": "display_data",
          "data": {
            "image/png": "[encoded data removed]",
            "text/plain": [
              "<Figure size 288x144 with 1 Axes>"
            ]
          },
          "metadata": {
            "tags": [],
            "needs_background": "light"
          }
        },
        {
          "output_type": "display_data",
          "data": {
            "image/png": "[encoded data removed]",
            "text/plain": [
              "<Figure size 288x144 with 1 Axes>"
            ]
          },
          "metadata": {
            "tags": [],
            "needs_background": "light"
          }
        },
        {
          "output_type": "display_data",
          "data": {
            "image/png": "[encoded data removed]",
            "text/plain": [
              "<Figure size 288x144 with 1 Axes>"
            ]
          },
          "metadata": {
            "tags": [],
            "needs_background": "light"
          }
        }
      ]
    },
    {
      "cell_type": "code",
      "metadata": {
        "id": "Qlh2WaS1UXi5",
        "outputId": "51b840ae-cbd6-44cc-b6af-da39c0dca55b",
        "colab": {
          "base_uri": "https://localhost:8080/"
        }
      },
      "source": [
        "#performing a Student test for non-numeric values\n",
        "for col in ['school', 'sex', 'address', 'family_size', 'parents_status',\n",
        "       'mother_job', 'father_job', 'reason', 'guardian', 'school_sup', 'family_sup', 'paid_classes', 'activities', 'nursery', 'higher', 'internet', 'romantic']:\n",
        "    get_stat_dif(col)"
      ],
      "execution_count": 192,
      "outputs": [
        {
          "output_type": "stream",
          "text": [
            "Найдены статистически значимые различия для колонки mother_job\n"
          ],
          "name": "stdout"
        }
      ]
    },
    {
      "cell_type": "markdown",
      "metadata": {
        "id": "B6ucE7TAWQCo"
      },
      "source": [
        "Как мы видим, серьёзно отличается только параметр mother_job\n"
      ]
    },
    {
      "cell_type": "markdown",
      "metadata": {
        "id": "AbnxL1TdW3zW"
      },
      "source": [
        "В результате EDA для анализа влияния условий жизни учащихся в возрасте от 15 до 22 лет на их успеваемость по математике, были получены следующие выводы:\n",
        "\n",
        "•\tВ данных достаточно много пустых значений.\n",
        "\n",
        "•\tВыбросы найдены только в столбцах с возрастом учеников и пропущенных днях\n",
        "\n",
        "•\tВ столбцах об образовании отца и отношениях в семье были найдены неправильные значения\n",
        "\n",
        "•\tПоложительная корреляция параметров образования родителей – говорит о тенденции проводить время с подходящим человеком\n",
        "\n",
        "•\tЧем больше у детей свободного времени после школы – тем больше времени они проводят с друзьями\n",
        "\n",
        "•\tСамые важные параметры, которые предлагается использовать в дальнейшем для построения модели, это mother_edu, father_edu, study_time и mother_job.\n"
      ]
    }
  ]
}